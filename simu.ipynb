{
 "cells": [
  {
   "cell_type": "code",
   "execution_count": 1,
   "metadata": {},
   "outputs": [],
   "source": [
    "import numpy as np\n",
    "from doubleml import DoubleMLData, DoubleMLPLR\n",
    "from sklearn.base import clone\n",
    "from sklearn.ensemble import RandomForestRegressor\n",
    "from sklearn.linear_model import LinearRegression\n",
    "from sklearn.neural_network import MLPRegressor"
   ]
  },
  {
   "cell_type": "markdown",
   "metadata": {},
   "source": [
    "# Simulations"
   ]
  },
  {
   "cell_type": "markdown",
   "metadata": {},
   "source": [
    "## Preliminary Numerical Results"
   ]
  },
  {
   "cell_type": "code",
   "execution_count": 2,
   "metadata": {},
   "outputs": [],
   "source": [
    "# Define parameters\n",
    "\n",
    "# dimensions\n",
    "# sample size\n",
    "N_set = (100, 300, 500, 700, 900)\n",
    "N = N_set[0]\n",
    "\n",
    "# expanded design size\n",
    "NNp_ratio = 0.1\n",
    "Np = N / NNp_ratio\n",
    "\n",
    "# Yi: R, Xi: R^P, Zi: R^q\n",
    "p = 1\n",
    "q = 10\n",
    "\n",
    "# number of repetitions\n",
    "num_reps = 500"
   ]
  },
  {
   "cell_type": "code",
   "execution_count": 3,
   "metadata": {},
   "outputs": [],
   "source": [
    "# Define functions\n",
    "def r0(Z):\n",
    "    return np.cos(np.sum(Z**2, axis=1))\n",
    "\n",
    "\n",
    "def g0(Z):\n",
    "    return np.prod(np.exp(Z), axis=1)\n",
    "\n",
    "\n",
    "def f0(X):\n",
    "    beta_0 = 1\n",
    "    return X * beta_0"
   ]
  },
  {
   "cell_type": "code",
   "execution_count": 4,
   "metadata": {},
   "outputs": [],
   "source": [
    "# Generation variables\n",
    "seed = 36\n",
    "np.random.seed(seed)\n",
    "\n",
    "# E: R^12, with Ej ~ Uniform[0, 1]\n",
    "E = np.random.uniform(size=(N, q + 2))\n",
    "# Zij = (Ej+1 + rho * E12) / (1 + rho)\n",
    "rho = 1\n",
    "Z = (E[:, 1:11] + rho * E[:, 11].reshape(-1, 1)) / (1 + rho)\n",
    "\n",
    "# Xi = (E1 + rho * E12) / (1 + rho)\n",
    "# X = (E[:, 0] + rho * E[:, 11]) / (1 + rho)\n",
    "# or Xi = r0(Zi) + Vi\n",
    "V = np.random.normal(size=(N,))\n",
    "X = r0(Z) + V\n",
    "\n",
    "# Yi = f0(Xi) + g0(Z_i) + Ui\n",
    "U = np.random.normal(size=(N,))\n",
    "Y = f0(X) + g0(Z) + U"
   ]
  },
  {
   "cell_type": "code",
   "execution_count": 5,
   "metadata": {},
   "outputs": [],
   "source": [
    "# Generate expanded design\n",
    "# Zi' = Zi + epsi\n",
    "Eps = np.random.normal(0, 1, (N, q))\n",
    "Zp = Z + Eps"
   ]
  },
  {
   "cell_type": "code",
   "execution_count": 6,
   "metadata": {},
   "outputs": [
    {
     "name": "stdout",
     "output_type": "stream",
     "text": [
      "================== DoubleMLData Object ==================\n",
      "\n",
      "------------------ Data summary      ------------------\n",
      "Outcome variable: y\n",
      "Treatment variable(s): ['d']\n",
      "Covariates: ['X1', 'X2', 'X3', 'X4', 'X5', 'X6', 'X7', 'X8', 'X9', 'X10']\n",
      "Instrument variable(s): None\n",
      "No. Observations: 100\n",
      "\n",
      "------------------ DataFrame info    ------------------\n",
      "<class 'pandas.core.frame.DataFrame'>\n",
      "RangeIndex: 100 entries, 0 to 99\n",
      "Columns: 12 entries, X1 to d\n",
      "dtypes: float64(12)\n",
      "memory usage: 9.5 KB\n",
      "\n"
     ]
    }
   ],
   "source": [
    "# Define data for double ML\n",
    "dml_data = DoubleMLData.from_arrays(Z, Y, X)\n",
    "print(dml_data)"
   ]
  },
  {
   "cell_type": "code",
   "execution_count": 11,
   "metadata": {},
   "outputs": [
    {
     "name": "stdout",
     "output_type": "stream",
     "text": [
      "         coef    std err        t     P>|t|      2.5 %      97.5 %\n",
      "d  111.562998  24.594584  4.53608  0.000006  63.358499  159.767497\n",
      "       2.5 %      97.5 %\n",
      "d  63.358499  159.767497\n"
     ]
    }
   ],
   "source": [
    "# Double ML using linear regression\n",
    "\n",
    "# Define linear regression models\n",
    "learner = LinearRegression()\n",
    "f_hat = RandomForestRegressor(\n",
    "    n_estimators=100, max_features=1, max_depth=5, min_samples_leaf=2\n",
    ")\n",
    "g_hat = clone(learner)  # Yi = f0(Xi) + g0(Z_i) + Ui\n",
    "r_hat = clone(learner)  # Xi = r0(Zi) + Vi\n",
    "\n",
    "# Initialize LinearDML with OLS models\n",
    "dml_ols = DoubleMLPLR(dml_data, f_hat, ml_m=r_hat, ml_g=g_hat, score=\"IV-type\")\n",
    "\n",
    "# Fit the model\n",
    "dml_ols.fit()\n",
    "print(dml_ols.summary)\n",
    "print(dml_ols.confint())"
   ]
  },
  {
   "cell_type": "code",
   "execution_count": 12,
   "metadata": {},
   "outputs": [
    {
     "name": "stdout",
     "output_type": "stream",
     "text": [
      "        coef    std err         t     P>|t|     2.5 %      97.5 %\n",
      "d  16.040267  47.786479  0.335665  0.737123 -77.61951  109.700044\n",
      "       2.5 %      97.5 %\n",
      "d  63.358499  159.767497\n"
     ]
    }
   ],
   "source": [
    "# Double ML using NN\n",
    "\n",
    "# Define neural network models\n",
    "learner = MLPRegressor(\n",
    "    hidden_layer_sizes=(128, 64, 32, 16),\n",
    "    activation=\"relu\",\n",
    "    solver=\"adam\",\n",
    "    max_iter=500,\n",
    "    random_state=seed,\n",
    ")\n",
    "f_hat = RandomForestRegressor(\n",
    "    n_estimators=100, max_features=1, max_depth=5, min_samples_leaf=2\n",
    ")\n",
    "g_hat = clone(learner)  # Yi = f0(Xi) + g0(Z_i) + Ui\n",
    "r_hat = clone(learner)  # Xi = r0(Zi) + Vi\n",
    "\n",
    "# Initialize LinearDML with neural networks\n",
    "dml_nn = DoubleMLPLR(dml_data, f_hat, ml_m=r_hat, ml_g=g_hat, score=\"IV-type\")\n",
    "\n",
    "# Fit the model\n",
    "dml_nn.fit()\n",
    "\n",
    "print(dml_nn.summary)\n",
    "print(dml_ols.confint())"
   ]
  },
  {
   "cell_type": "code",
   "execution_count": null,
   "metadata": {},
   "outputs": [],
   "source": []
  }
 ],
 "metadata": {
  "kernelspec": {
   "display_name": "kte_env",
   "language": "python",
   "name": "python3"
  },
  "language_info": {
   "codemirror_mode": {
    "name": "ipython",
    "version": 3
   },
   "file_extension": ".py",
   "mimetype": "text/x-python",
   "name": "python",
   "nbconvert_exporter": "python",
   "pygments_lexer": "ipython3",
   "version": "3.11.3"
  }
 },
 "nbformat": 4,
 "nbformat_minor": 2
}

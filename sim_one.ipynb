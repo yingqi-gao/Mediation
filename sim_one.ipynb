{
 "cells": [
  {
   "cell_type": "code",
   "execution_count": 428,
   "metadata": {},
   "outputs": [],
   "source": [
    "import numpy as np\n",
    "from doubleml import DoubleMLData, DoubleMLPLR\n",
    "from sklearn.base import clone\n",
    "from sklearn.linear_model import LinearRegression\n",
    "from sklearn.ensemble import RandomForestRegressor\n",
    "from sklearn.neural_network import MLPRegressor\n",
    "import scipy"
   ]
  },
  {
   "cell_type": "markdown",
   "metadata": {},
   "source": [
    "# One-Sample of Size 1000 for Double ML"
   ]
  },
  {
   "cell_type": "code",
   "execution_count": 429,
   "metadata": {},
   "outputs": [],
   "source": [
    "# Define parameters\n",
    "\n",
    "# dimensions\n",
    "# sample size\n",
    "N = 1000\n",
    "\n",
    "# Yi: R, Xi: R^P, Zi: R^q\n",
    "p = 1\n",
    "q = 10\n",
    "\n",
    "# expanded design size\n",
    "NNp_ratio = 0.1\n",
    "Np = int(np.ceil(N / NNp_ratio))\n",
    "\n",
    "# number of repetitions\n",
    "num_reps = 500"
   ]
  },
  {
   "cell_type": "code",
   "execution_count": 430,
   "metadata": {},
   "outputs": [],
   "source": [
    "# Define functions\n",
    "def r0(Z):\n",
    "    return np.cos(np.sum(Z**2, axis=1))\n",
    "\n",
    "\n",
    "def g0(Z):\n",
    "    return np.prod(np.exp(Z), axis=1)\n",
    "\n",
    "\n",
    "def f0(X):\n",
    "    beta_0 = 1\n",
    "    return X * beta_0"
   ]
  },
  {
   "cell_type": "code",
   "execution_count": 431,
   "metadata": {},
   "outputs": [],
   "source": [
    "# Generation variables\n",
    "seed = np.random.randint(0, 100)\n",
    "np.random.seed(seed)\n",
    "\n",
    "# E: R^12, with Ej ~ Uniform[0, 1/2]\n",
    "E = np.random.uniform(0, 0.5, size=(N+1, q+2))\n",
    "# Zij = (Ej+1 + rho * E12) / (1 + rho)\n",
    "rho = 1\n",
    "Zt = ((E[:, 1:11] + rho * E[:, 11].reshape(-1, 1)) / (1 + rho))\n",
    "Z = Zt[1:, :]\n",
    "Z0 = Zt[0, :].reshape(1, -1)\n",
    "\n",
    "# or Xi = r0(Zi) + Vi\n",
    "V = np.random.normal(0, 1/q, size=(N,))\n",
    "X = r0(Z) + V\n",
    "\n",
    "# Yi = f0(Xi) + g0(Z_i) + Ui\n",
    "U = np.random.normal(0, 1/q, size=(N,))\n",
    "Y = f0(X) + g0(Z) + U"
   ]
  },
  {
   "cell_type": "code",
   "execution_count": 432,
   "metadata": {},
   "outputs": [
    {
     "name": "stdout",
     "output_type": "stream",
     "text": [
      "================== DoubleMLData Object ==================\n",
      "\n",
      "------------------ Data summary      ------------------\n",
      "Outcome variable: y\n",
      "Treatment variable(s): ['d']\n",
      "Covariates: ['X1', 'X2', 'X3', 'X4', 'X5', 'X6', 'X7', 'X8', 'X9', 'X10']\n",
      "Instrument variable(s): None\n",
      "No. Observations: 1000\n",
      "\n",
      "------------------ DataFrame info    ------------------\n",
      "<class 'pandas.core.frame.DataFrame'>\n",
      "RangeIndex: 1000 entries, 0 to 999\n",
      "Columns: 12 entries, X1 to d\n",
      "dtypes: float64(12)\n",
      "memory usage: 93.9 KB\n",
      "\n"
     ]
    }
   ],
   "source": [
    "# Define data for double ML\n",
    "dml_data = DoubleMLData.from_arrays(Z, Y, X)\n",
    "print(dml_data)"
   ]
  },
  {
   "cell_type": "code",
   "execution_count": 433,
   "metadata": {},
   "outputs": [
    {
     "name": "stdout",
     "output_type": "stream",
     "text": [
      "================== DoubleMLPLR Object ==================\n",
      "\n",
      "------------------ Data summary      ------------------\n",
      "Outcome variable: y\n",
      "Treatment variable(s): ['d']\n",
      "Covariates: ['X1', 'X2', 'X3', 'X4', 'X5', 'X6', 'X7', 'X8', 'X9', 'X10']\n",
      "Instrument variable(s): None\n",
      "No. Observations: 1000\n",
      "\n",
      "------------------ Score & algorithm ------------------\n",
      "Score function: partialling out\n",
      "\n",
      "------------------ Machine learner   ------------------\n",
      "Learner ml_l: LinearRegression()\n",
      "Learner ml_m: LinearRegression()\n",
      "Out-of-sample Performance:\n",
      "Regression:\n",
      "Learner ml_l RMSE: [[4.14251046]]\n",
      "Learner ml_m RMSE: [[0.13135157]]\n",
      "\n",
      "------------------ Resampling        ------------------\n",
      "No. folds: 10\n",
      "No. repeated sample splits: 1\n",
      "\n",
      "------------------ Fit summary       ------------------\n",
      "        coef   std err          t         P>|t|    2.5 %     97.5 %\n",
      "d -19.082306  1.052567 -18.129301  1.871227e-73 -21.1453 -17.019312\n"
     ]
    }
   ],
   "source": [
    "# Double ML using linear regression\n",
    "np.random.seed(seed)\n",
    "\n",
    "# Define linear regression models\n",
    "ols_learner = LinearRegression()\n",
    "ols_g_hat = clone(ols_learner)  # Yi = f0(Xi) + g0(Z_i) + Ui\n",
    "ols_r_hat = clone(ols_learner)  # Xi = r0(Zi) + Vi\n",
    "\n",
    "# Initialize LinearDML with OLS models\n",
    "dml_ols = DoubleMLPLR(dml_data, ml_l=ols_g_hat, ml_m=ols_r_hat, n_folds=10)\n",
    "\n",
    "# Fit the model\n",
    "dml_ols.fit()\n",
    "print(dml_ols)"
   ]
  },
  {
   "cell_type": "code",
   "execution_count": 434,
   "metadata": {},
   "outputs": [
    {
     "name": "stdout",
     "output_type": "stream",
     "text": [
      "================== DoubleMLPLR Object ==================\n",
      "\n",
      "------------------ Data summary      ------------------\n",
      "Outcome variable: y\n",
      "Treatment variable(s): ['d']\n",
      "Covariates: ['X1', 'X2', 'X3', 'X4', 'X5', 'X6', 'X7', 'X8', 'X9', 'X10']\n",
      "Instrument variable(s): None\n",
      "No. Observations: 1000\n",
      "\n",
      "------------------ Score & algorithm ------------------\n",
      "Score function: partialling out\n",
      "\n",
      "------------------ Machine learner   ------------------\n",
      "Learner ml_l: RandomForestRegressor(n_estimators=10)\n",
      "Learner ml_m: RandomForestRegressor(n_estimators=10)\n",
      "Out-of-sample Performance:\n",
      "Regression:\n",
      "Learner ml_l RMSE: [[3.12906984]]\n",
      "Learner ml_m RMSE: [[0.12418651]]\n",
      "\n",
      "------------------ Resampling        ------------------\n",
      "No. folds: 10\n",
      "No. repeated sample splits: 1\n",
      "\n",
      "------------------ Fit summary       ------------------\n",
      "       coef   std err         t         P>|t|     2.5 %    97.5 %\n",
      "d -6.853051  1.085207 -6.314971  2.702116e-10 -8.980017 -4.726084\n"
     ]
    }
   ],
   "source": [
    "# Double ML using random forest\n",
    "np.random.seed(seed)\n",
    "\n",
    "# Define random forest models\n",
    "rf_learner = RandomForestRegressor(n_estimators=q)\n",
    "rf_g_hat = clone(rf_learner)  # Yi = f0(Xi) + g0(Z_i) + Ui\n",
    "rf_r_hat = clone(rf_learner)  # Xi = r0(Zi) + Vi\n",
    "\n",
    "# Initialize LinearDML with random forest models\n",
    "dml_rf = DoubleMLPLR(dml_data, ml_l=rf_g_hat, ml_m=rf_r_hat, n_folds=10)\n",
    "\n",
    "# Fit the model\n",
    "dml_rf.fit()\n",
    "print(dml_rf)"
   ]
  },
  {
   "cell_type": "code",
   "execution_count": 435,
   "metadata": {},
   "outputs": [
    {
     "name": "stdout",
     "output_type": "stream",
     "text": [
      "================== DoubleMLPLR Object ==================\n",
      "\n",
      "------------------ Data summary      ------------------\n",
      "Outcome variable: y\n",
      "Treatment variable(s): ['d']\n",
      "Covariates: ['X1', 'X2', 'X3', 'X4', 'X5', 'X6', 'X7', 'X8', 'X9', 'X10']\n",
      "Instrument variable(s): None\n",
      "No. Observations: 1000\n",
      "\n",
      "------------------ Score & algorithm ------------------\n",
      "Score function: partialling out\n",
      "\n",
      "------------------ Machine learner   ------------------\n",
      "Learner ml_l: MLPRegressor(hidden_layer_sizes=(128, 64, 64, 128), max_iter=5000,\n",
      "             random_state=29)\n",
      "Learner ml_m: MLPRegressor(hidden_layer_sizes=(128, 64, 64, 128), max_iter=5000,\n",
      "             random_state=29)\n",
      "Out-of-sample Performance:\n",
      "Regression:\n",
      "Learner ml_l RMSE: [[0.30473922]]\n",
      "Learner ml_m RMSE: [[0.10509956]]\n",
      "\n",
      "------------------ Resampling        ------------------\n",
      "No. folds: 10\n",
      "No. repeated sample splits: 1\n",
      "\n",
      "------------------ Fit summary       ------------------\n",
      "       coef   std err         t         P>|t|     2.5 %    97.5 %\n",
      "d  0.823693  0.102789  8.013435  1.115483e-15  0.622231  1.025156\n"
     ]
    }
   ],
   "source": [
    "# Double ML using NN\n",
    "nn_learner = MLPRegressor( \n",
    "    hidden_layer_sizes=(128, 64, 64, 128),\n",
    "    activation=\"relu\",\n",
    "    solver=\"adam\",\n",
    "    max_iter=5000,\n",
    "    random_state=seed,\n",
    ")\n",
    "# Define neural network models\n",
    "nn_g_hat = clone(nn_learner)  # Yi = f0(Xi) + g0(Z_i) + Ui\n",
    "nn_r_hat = clone(nn_learner)  # Xi = r0(Zi) + Vi\n",
    "\n",
    "# Initialize LinearDML with neural networks\n",
    "dml_nn = DoubleMLPLR(dml_data, ml_l=nn_g_hat, ml_m=nn_r_hat, n_folds=10)\n",
    "\n",
    "# Fit the model\n",
    "dml_nn.fit()\n",
    "print(dml_nn)"
   ]
  },
  {
   "cell_type": "code",
   "execution_count": 436,
   "metadata": {},
   "outputs": [
    {
     "name": "stdout",
     "output_type": "stream",
     "text": [
      "-19.08230596925149 -6.853050672477998 0.8236934655939452\n"
     ]
    }
   ],
   "source": [
    "print(dml_ols.coef[0], dml_rf.coef[0], dml_nn.coef[0])"
   ]
  },
  {
   "cell_type": "markdown",
   "metadata": {},
   "source": [
    "## Expanded Design"
   ]
  },
  {
   "cell_type": "code",
   "execution_count": 437,
   "metadata": {},
   "outputs": [],
   "source": [
    "np.random.seed(seed)\n",
    "# Zi' = Zi + epsi\n",
    "Eps = np.random.normal(0, 1/q, (Np, q))\n",
    "Zp = Z0 + Eps"
   ]
  },
  {
   "cell_type": "code",
   "execution_count": 438,
   "metadata": {},
   "outputs": [],
   "source": [
    "def CI_r0_round(Z, X, Z0, Zp, r_hat, alpha=0.05, seed=0):\n",
    "    r_hat.fit(Z, X)\n",
    "    X_hat = r_hat.predict(Z)\n",
    "    X_hatp = r_hat.predict(Zp)\n",
    "    \n",
    "    mean_X_hatp = np.mean(X_hatp)\n",
    "    delta = np.mean(X_hat - X)\n",
    "    sigma_hat1 = np.mean((X_hat - X - delta) ** 2)\n",
    "    sigma_hat2 = np.mean((X_hatp - mean_X_hatp) ** 2)\n",
    "\n",
    "    def w_theta(alpha):\n",
    "        return scipy.stats.norm.ppf(1 - alpha / (2 * p)) * np.sqrt(\n",
    "            sigma_hat1 / N + sigma_hat2 / Np\n",
    "        )\n",
    "\n",
    "    def CI_r0(alpha):\n",
    "        w = w_theta(alpha)\n",
    "        lower = mean_X_hatp - delta - w\n",
    "        upper = mean_X_hatp - delta + w\n",
    "        return [lower, upper]\n",
    "\n",
    "    def does_CI_cover(CI, truth):\n",
    "        if truth > CI[0] and truth < CI[1]:\n",
    "            return True\n",
    "        else:\n",
    "            return False\n",
    "\n",
    "    return does_CI_cover(CI_r0(alpha), r0(Z0))"
   ]
  },
  {
   "cell_type": "code",
   "execution_count": 439,
   "metadata": {},
   "outputs": [
    {
     "data": {
      "text/plain": [
       "False"
      ]
     },
     "execution_count": 439,
     "metadata": {},
     "output_type": "execute_result"
    }
   ],
   "source": [
    "CI_r0_round(Z, X, Z0, Zp, ols_r_hat, alpha=0.05, seed=seed)"
   ]
  },
  {
   "cell_type": "code",
   "execution_count": 440,
   "metadata": {},
   "outputs": [
    {
     "data": {
      "text/plain": [
       "False"
      ]
     },
     "execution_count": 440,
     "metadata": {},
     "output_type": "execute_result"
    }
   ],
   "source": [
    "CI_r0_round(Z, X, Z0, Zp, rf_r_hat, alpha=0.05, seed=seed)"
   ]
  },
  {
   "cell_type": "code",
   "execution_count": 441,
   "metadata": {},
   "outputs": [
    {
     "data": {
      "text/plain": [
       "False"
      ]
     },
     "execution_count": 441,
     "metadata": {},
     "output_type": "execute_result"
    }
   ],
   "source": [
    "CI_r0_round(Z, X, Z0, Zp, nn_r_hat, alpha=0.05, seed=seed)"
   ]
  }
 ],
 "metadata": {
  "kernelspec": {
   "display_name": ".kte_env",
   "language": "python",
   "name": "python3"
  },
  "language_info": {
   "codemirror_mode": {
    "name": "ipython",
    "version": 3
   },
   "file_extension": ".py",
   "mimetype": "text/x-python",
   "name": "python",
   "nbconvert_exporter": "python",
   "pygments_lexer": "ipython3",
   "version": "3.9.7"
  }
 },
 "nbformat": 4,
 "nbformat_minor": 2
}

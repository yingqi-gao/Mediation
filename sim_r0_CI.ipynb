{
 "cells": [
  {
   "cell_type": "code",
   "execution_count": 1,
   "id": "faffb77f",
   "metadata": {},
   "outputs": [],
   "source": [
    "import sys\n",
    "\n",
    "sys.path.append(\"./myutils\")\n",
    "from data_generator import (\n",
    "    DataGeneratorParam,\n",
    "    TrainDataParam,\n",
    "    RealDataParam,\n",
    "    ExpandedDataParam,\n",
    "    DataGenerator,\n",
    ")\n",
    "from train_rhat import train_rhat\n",
    "from r0_CI import construct_r0_CIs\n",
    "from true_models import generate_true_models, generate_bias_models\n",
    "from learner import build_learner\n",
    "from utils import get_model_directory_uri\n",
    "import itertools\n",
    "import numpy as np\n",
    "import pandas as pd\n",
    "from multiprocessing.dummy import Pool as ThreadPool\n",
    "from concurrent.futures import ProcessPoolExecutor, as_completed\n",
    "from tqdm import tqdm"
   ]
  },
  {
   "cell_type": "code",
   "execution_count": 2,
   "id": "47817d7f",
   "metadata": {},
   "outputs": [],
   "source": [
    "import warnings\n",
    "warnings.filterwarnings(\n",
    "    \"ignore\",\n",
    "    message=\"You are using `torch.load` with `weights_only=False`\",\n",
    "    category=FutureWarning\n",
    ")"
   ]
  },
  {
   "cell_type": "markdown",
   "id": "a999383f",
   "metadata": {},
   "source": [
    "# All parameters"
   ]
  },
  {
   "cell_type": "code",
   "execution_count": 3,
   "id": "677921f3",
   "metadata": {},
   "outputs": [],
   "source": [
    "Q = 100  # Z in R^Q\n",
    "P = 100  # X in R^P\n",
    "# Y in R\n",
    "OUTPUT_DIRECTORY_URI = \"./results\""
   ]
  },
  {
   "cell_type": "code",
   "execution_count": 4,
   "id": "28496599",
   "metadata": {},
   "outputs": [],
   "source": [
    "r0, g0, f0 = generate_true_models(Q, P)\n",
    "DATA_GENERATOR_PARAM = DataGeneratorParam(p=P, q=Q, r0=r0, g0=g0, f0=f0)\n",
    "\n",
    "TRAIN_DATA_PARAM = TrainDataParam(n_train=50000)"
   ]
  },
  {
   "cell_type": "code",
   "execution_count": 5,
   "id": "17d8335f",
   "metadata": {},
   "outputs": [],
   "source": [
    "r0_LEARNERS = {\n",
    "    # \"linear\": build_learner(model_type='ols'),\n",
    "    \"kernel\": build_learner(model_type=\"krr\"),\n",
    "    \"xgboost\": build_learner(model_type=\"xgb\", output_dim=P),\n",
    "    \"neural_net_128x128_1500_64\": build_learner(\n",
    "        model_type=\"mlp\",\n",
    "        input_dim=P,\n",
    "        output_dim=Q,\n",
    "        hidden_layers=[128, 128],\n",
    "        epochs=1500,\n",
    "        batch_size=64,\n",
    "    ),\n",
    "    \"random_forest\": build_learner(\n",
    "        model_type=\"rf\",\n",
    "        output_dim=P,\n",
    "        max_features=\"sqrt\",\n",
    "    ),\n",
    "    # \"random_forest_20dep_100ests\": build_learner(\n",
    "    #     model_type=\"rf\",\n",
    "    #     output_dim=P,\n",
    "    #     max_depth=20,\n",
    "    #     n_estimators=100,\n",
    "    #     max_features=\"sqrt\",\n",
    "    # ),\n",
    "    # \"random_forest_40dep_100ests\": build_learner(\n",
    "    #     model_type=\"rf\",\n",
    "    #     output_dim=P,\n",
    "    #     max_depth=40,\n",
    "    #     n_estimators=100,\n",
    "    #     max_features=\"sqrt\",\n",
    "    # ),\n",
    "}"
   ]
  },
  {
   "cell_type": "code",
   "execution_count": 6,
   "id": "2c9b3505",
   "metadata": {},
   "outputs": [
    {
     "name": "stdout",
     "output_type": "stream",
     "text": [
      "Number of real data param combos: 12\n",
      "Number of expanded data param combos: 6\n"
     ]
    }
   ],
   "source": [
    "nn_bias_1, nn_bias_2 = generate_bias_models(Q, P)\n",
    "BIAS_FUNCS = [nn_bias_1, nn_bias_2]\n",
    "BIAS_SCALES = [0, 1, 10]\n",
    "N_REALS = [100, 1000]\n",
    "R_EXPANDEDS = [0.001, 0.01, 0.1]\n",
    "\n",
    "REAL_DATA_PARAMS = [\n",
    "    RealDataParam(bias_func=bias_func, bias_scale=bias_scale, n_real=n_real)\n",
    "    for bias_func, bias_scale, n_real in itertools.product(\n",
    "        BIAS_FUNCS, BIAS_SCALES, N_REALS\n",
    "    )\n",
    "]\n",
    "print(\"Number of real data param combos:\", len(REAL_DATA_PARAMS))\n",
    "\n",
    "EXPANDED_DATA_PARAMS = [\n",
    "    ExpandedDataParam(n_expanded=10 * n_real, r_expanded=r)\n",
    "    for n_real, r in itertools.product(N_REALS, R_EXPANDEDS)\n",
    "]\n",
    "print(\"Number of expanded data param combos:\", len(EXPANDED_DATA_PARAMS))"
   ]
  },
  {
   "cell_type": "code",
   "execution_count": 7,
   "id": "52a89110",
   "metadata": {},
   "outputs": [
    {
     "name": "stdout",
     "output_type": "stream",
     "text": [
      "There are 288 combinations to run.\n"
     ]
    }
   ],
   "source": [
    "combinations = list(\n",
    "    itertools.product(r0_LEARNERS.items(), REAL_DATA_PARAMS, EXPANDED_DATA_PARAMS)\n",
    ")\n",
    "print(f\"There are {len(combinations)} combinations to run.\")"
   ]
  },
  {
   "cell_type": "markdown",
   "id": "5a5dd5de",
   "metadata": {},
   "source": [
    "# Retrieve all trained models"
   ]
  },
  {
   "cell_type": "code",
   "execution_count": 8,
   "id": "417c7c58",
   "metadata": {},
   "outputs": [],
   "source": [
    "def train_single_model(args):\n",
    "    learner_name, learner = args\n",
    "    model_directory_uri = get_model_directory_uri(\n",
    "        data_generator_param=DATA_GENERATOR_PARAM,\n",
    "        train_data_param=TRAIN_DATA_PARAM,\n",
    "        r0_learner_name=learner_name,\n",
    "        output_directory_uri=OUTPUT_DIRECTORY_URI,\n",
    "    )\n",
    "    rhat = train_rhat(\n",
    "        data_generator_param=DATA_GENERATOR_PARAM,\n",
    "        train_data_param=TRAIN_DATA_PARAM,\n",
    "        model_directory_uri=model_directory_uri,\n",
    "        learner_name=learner_name,\n",
    "        learner=learner,\n",
    "        fresh=False,\n",
    "    )\n",
    "    return model_directory_uri, rhat"
   ]
  },
  {
   "cell_type": "code",
   "execution_count": 9,
   "id": "9a058a60",
   "metadata": {},
   "outputs": [
    {
     "name": "stderr",
     "output_type": "stream",
     "text": [
      "Training Models:   0%|          | 0/4 [00:00<?, ?it/s]"
     ]
    },
    {
     "name": "stdout",
     "output_type": "stream",
     "text": [
      "Reading rhat...\n",
      "Reading rhat...\n",
      "\n",
      "\n",
      "Reading rhat...\n",
      "\n",
      "Reading rhat...\n",
      "\n",
      "kernel training MSE = 6039.233176466542\n",
      "'train_rhat' executed in 0.581983s\n"
     ]
    },
    {
     "name": "stderr",
     "output_type": "stream",
     "text": [
      "Training Models:  25%|██▌       | 1/4 [00:00<00:01,  1.72it/s]"
     ]
    },
    {
     "name": "stdout",
     "output_type": "stream",
     "text": [
      "xgboost training MSE = 2670.9454665857\n",
      "'train_rhat' executed in 1.510732s\n"
     ]
    },
    {
     "name": "stderr",
     "output_type": "stream",
     "text": [
      "Training Models:  50%|█████     | 2/4 [00:02<00:02,  1.40s/it]"
     ]
    },
    {
     "name": "stdout",
     "output_type": "stream",
     "text": [
      "neural_net_128x128_1500_64 training MSE = 1.1814813298133593\n",
      "'train_rhat' executed in 6.596700s\n"
     ]
    },
    {
     "name": "stderr",
     "output_type": "stream",
     "text": [
      "Training Models:  75%|███████▌  | 3/4 [00:07<00:03,  3.21s/it]"
     ]
    },
    {
     "name": "stdout",
     "output_type": "stream",
     "text": [
      "random_forest training MSE = 1533.9805656345966\n",
      "'train_rhat' executed in 55.416403s\n"
     ]
    },
    {
     "name": "stderr",
     "output_type": "stream",
     "text": [
      "Training Models: 100%|██████████| 4/4 [03:17<00:00, 49.32s/it]\n"
     ]
    }
   ],
   "source": [
    "trained_models = {}\n",
    "\n",
    "with ProcessPoolExecutor() as executor:\n",
    "    futures = {\n",
    "        executor.submit(train_single_model, item): item[0]  # learner_name\n",
    "        for item in r0_LEARNERS.items()\n",
    "    }\n",
    "    for future in tqdm(as_completed(futures), total=len(futures), desc=\"Training Models\"):\n",
    "        learner_name = futures[future]\n",
    "        model_directory_uri, rhat = future.result()\n",
    "        trained_models[learner_name] = (model_directory_uri, rhat)"
   ]
  },
  {
   "cell_type": "markdown",
   "id": "50c7d4bc",
   "metadata": {},
   "source": [
    "# Construct r0_CIs\n"
   ]
  },
  {
   "cell_type": "code",
   "execution_count": 10,
   "id": "8c27ab4a",
   "metadata": {},
   "outputs": [],
   "source": [
    "def run_single_experiment(\n",
    "    r0_learner_name,\n",
    "    model_directory_uri,\n",
    "    rhat,\n",
    "    data_generator_param,\n",
    "    real_data_param,\n",
    "    expanded_data_param,\n",
    "    r0,\n",
    "    fresh=False,\n",
    "):\n",
    "    r0_CIs, coverage, avg_me = construct_r0_CIs(\n",
    "        data_generator_param=data_generator_param,\n",
    "        real_data_param=real_data_param,\n",
    "        expanded_data_param=expanded_data_param,\n",
    "        model_directory_uri=model_directory_uri,\n",
    "        rhat=rhat,\n",
    "        r0=r0,\n",
    "        fresh=fresh,\n",
    "    )\n",
    "\n",
    "    return {\n",
    "        \"r0_learner_name\": r0_learner_name,\n",
    "        \"bias_func\": real_data_param.bias_func.__class__.__name__,\n",
    "        \"bias_scale\": real_data_param.bias_scale,\n",
    "        \"n_real\": real_data_param.n_real,\n",
    "        \"n_expanded\": expanded_data_param.n_expanded,\n",
    "        \"r_expanded\": expanded_data_param.r_expanded,\n",
    "        \"coverage\": coverage,\n",
    "        \"avg_me\": avg_me,\n",
    "    }"
   ]
  },
  {
   "cell_type": "code",
   "execution_count": 11,
   "id": "6e54a8e6",
   "metadata": {},
   "outputs": [],
   "source": [
    "def run_combination(args):\n",
    "    (r0_learner_name, _), real_data_param, expanded_data_param = args\n",
    "    model_directory_uri, rhat = trained_models[r0_learner_name]\n",
    "    \n",
    "    # print(f\"Running {r0_learner_name}, bias={real_data_param.bias_scale}, r={expanded_data_param.r_expanded}\")\n",
    "    return run_single_experiment(\n",
    "        r0_learner_name=r0_learner_name,\n",
    "        model_directory_uri=model_directory_uri,\n",
    "        rhat=rhat,\n",
    "        data_generator_param=DATA_GENERATOR_PARAM,\n",
    "        real_data_param=real_data_param,\n",
    "        expanded_data_param=expanded_data_param,\n",
    "        r0=r0,\n",
    "        fresh=False,\n",
    "    )"
   ]
  },
  {
   "cell_type": "code",
   "execution_count": 12,
   "id": "94db9008",
   "metadata": {},
   "outputs": [
    {
     "name": "stderr",
     "output_type": "stream",
     "text": [
      "  0%|          | 0/288 [00:00<?, ?it/s]"
     ]
    },
    {
     "name": "stdout",
     "output_type": "stream",
     "text": [
      "Constructing r0 CIs...\n",
      "\n",
      "Constructing r0 CIs...\n",
      "\n",
      "Constructing r0 CIs...\n",
      "\n",
      "Constructing r0 CIs...\n",
      "\n",
      "Constructing r0 CIs...\n",
      "\n",
      "Constructing r0 CIs...\n",
      "\n",
      "Constructing r0 CIs...\n",
      "\n",
      "Constructing r0 CIs...\n",
      "\n",
      "Constructing r0 CIs...\n",
      "\n",
      "Constructing r0 CIs...\n",
      "\n",
      "Constructing r0 CIs...\n",
      "\n",
      "Constructing r0 CIs...\n",
      "\n",
      "Constructing r0 CIs...\n",
      "\n",
      "Constructing r0 CIs...\n",
      "\n",
      "Constructing r0 CIs...\n",
      "\n",
      "Constructing r0 CIs...\n",
      "\n",
      "Constructing r0 CIs...\n",
      "\n",
      "Constructing r0 CIs...\n",
      "\n",
      "Constructing r0 CIs...\n",
      "\n",
      "Constructing r0 CIs...\n",
      "\n",
      "Constructing r0 CIs...\n",
      "\n",
      "Constructing r0 CIs...\n",
      "\n",
      "Constructing r0 CIs...\n",
      "\n",
      "Constructing r0 CIs...\n",
      "\n",
      "Constructing r0 CIs...\n",
      "\n",
      "Constructing r0 CIs...\n",
      "\n",
      "Constructing r0 CIs...\n",
      "\n",
      "Constructing r0 CIs...\n",
      "\n",
      "Constructing r0 CIs...\n",
      "\n",
      "Constructing r0 CIs...\n",
      "\n",
      "Constructing r0 CIs...\n",
      "\n",
      "Constructing r0 CIs...\n",
      "\n",
      "Constructing r0 CIs...\n",
      "\n",
      "Constructing r0 CIs...\n",
      "\n",
      "Constructing r0 CIs...\n",
      "\n",
      "Constructing r0 CIs...\n",
      "\n",
      "Constructing r0 CIs...\n",
      "\n",
      "Constructing r0 CIs...\n",
      "\n",
      "Constructing r0 CIs...\n",
      "\n",
      "Constructing r0 CIs...\n",
      "\n",
      "Constructing r0 CIs...\n",
      "\n",
      "Constructing r0 CIs...\n",
      "\n",
      "Constructing r0 CIs...\n",
      "\n",
      "Constructing r0 CIs...\n",
      "\n",
      "Constructing r0 CIs...\n",
      "\n",
      "Constructing r0 CIs...\n",
      "\n",
      "Constructing r0 CIs...\n",
      "\n",
      "Constructing r0 CIs...\n",
      "\n",
      "Constructing r0 CIs...\n",
      "\n",
      "Constructing r0 CIs...\n",
      "\n",
      "Constructing r0 CIs...\n",
      "\n",
      "Constructing r0 CIs...\n",
      "\n",
      "Constructing r0 CIs...\n",
      "\n",
      "Constructing r0 CIs...\n",
      "\n",
      "Constructing r0 CIs...\n",
      "\n",
      "Constructing r0 CIs...\n",
      "\n",
      "Constructing r0 CIs...\n",
      "\n",
      "Constructing r0 CIs...\n",
      "\n",
      "Constructing r0 CIs...\n",
      "\n",
      "Constructing r0 CIs...\n",
      "\n",
      "Constructing r0 CIs...\n",
      "\n",
      "Constructing r0 CIs...\n",
      "\n",
      "Constructing r0 CIs...\n",
      "\n",
      "Constructing r0 CIs...\n",
      "\n",
      "Saving...\n"
     ]
    },
    {
     "name": "stderr",
     "output_type": "stream",
     "text": [
      "  0%|          | 1/288 [08:49<42:14:44, 529.91s/it]"
     ]
    },
    {
     "name": "stdout",
     "output_type": "stream",
     "text": [
      "Coverage: 0.389\n",
      "Average ME: 26.508\n",
      "'construct_r0_CIs' executed in 529.887754s\n",
      "Constructing r0 CIs...\n",
      "\n",
      "Saving...\n",
      "Saving...\n",
      "Saving...\n"
     ]
    },
    {
     "name": "stderr",
     "output_type": "stream",
     "text": [
      "  1%|          | 2/288 [08:51<17:24:47, 219.19s/it]"
     ]
    },
    {
     "name": "stdout",
     "output_type": "stream",
     "text": [
      "Coverage: 0.389\n",
      "Average ME: 26.508\n",
      "'construct_r0_CIs' executed in 531.514445s\n",
      "Saving...\n",
      "Constructing r0 CIs...\n",
      "\n"
     ]
    },
    {
     "name": "stderr",
     "output_type": "stream",
     "text": [
      "  1%|▏         | 4/288 [08:52<5:42:05, 72.27s/it]  "
     ]
    },
    {
     "name": "stdout",
     "output_type": "stream",
     "text": [
      "Coverage: 0.388\n",
      "Average ME: 26.508\n",
      "'construct_r0_CIs' executed in 532.080240s\n",
      "Coverage: 0.371\n",
      "Average ME: 27.790\n",
      "'construct_r0_CIs' executed in 532.102337s\n",
      "Constructing r0 CIs...\n",
      "\n",
      "Constructing r0 CIs...\n",
      "\n",
      "Coverage: 0.371\n",
      "Average ME: 27.790\n",
      "'construct_r0_CIs' executed in 532.252972s\n"
     ]
    },
    {
     "name": "stderr",
     "output_type": "stream",
     "text": [
      "  2%|▏         | 5/288 [08:52<3:38:08, 46.25s/it]"
     ]
    },
    {
     "name": "stdout",
     "output_type": "stream",
     "text": [
      "Constructing r0 CIs...\n",
      "\n",
      "Saving...\n",
      "Saving...\n"
     ]
    },
    {
     "name": "stderr",
     "output_type": "stream",
     "text": [
      "  2%|▏         | 6/288 [08:54<2:27:40, 31.42s/it]"
     ]
    },
    {
     "name": "stdout",
     "output_type": "stream",
     "text": [
      "Coverage: 0.403\n",
      "Average ME: 85.920Coverage: 0.403\n",
      "Average ME: 85.920\n",
      "'construct_r0_CIs' executed in 534.916942s\n",
      "\n",
      "'construct_r0_CIs' executed in 534.938893s\n",
      "Constructing r0 CIs...\n",
      "\n",
      "Constructing r0 CIs...\n",
      "\n",
      "Saving...\n",
      "Saving...\n"
     ]
    },
    {
     "name": "stderr",
     "output_type": "stream",
     "text": [
      "  3%|▎         | 8/288 [08:57<1:17:23, 16.58s/it]"
     ]
    },
    {
     "name": "stdout",
     "output_type": "stream",
     "text": [
      "Coverage: 0.403\n",
      "Average ME: 85.920\n",
      "'construct_r0_CIs' executed in 537.378345s\n",
      "Saving...\n",
      "Constructing r0 CIs...\n",
      "\n",
      "Coverage: 0.340\n",
      "Average ME: 34.894\n",
      "'construct_r0_CIs' executed in 537.463489s\n",
      "Constructing r0 CIs...\n",
      "\n"
     ]
    },
    {
     "name": "stderr",
     "output_type": "stream",
     "text": [
      "  3%|▎         | 10/288 [08:58<45:31,  9.83s/it] "
     ]
    },
    {
     "name": "stdout",
     "output_type": "stream",
     "text": [
      "Coverage: 0.371\n",
      "Average ME: 27.790\n",
      "'construct_r0_CIs' executed in 538.018925s\n",
      "Constructing r0 CIs...\n",
      "\n",
      "Saving...\n"
     ]
    },
    {
     "name": "stderr",
     "output_type": "stream",
     "text": [
      "  4%|▍         | 11/288 [08:59<36:56,  8.00s/it]"
     ]
    },
    {
     "name": "stdout",
     "output_type": "stream",
     "text": [
      "Coverage: 0.219\n",
      "Average ME: 222.484\n",
      "'construct_r0_CIs' executed in 539.659340s\n",
      "Constructing r0 CIs...\n",
      "\n",
      "Saving...\n"
     ]
    },
    {
     "name": "stderr",
     "output_type": "stream",
     "text": [
      "  4%|▍         | 12/288 [09:02<30:39,  6.67s/it]"
     ]
    },
    {
     "name": "stdout",
     "output_type": "stream",
     "text": [
      "Coverage: 0.389\n",
      "Average ME: 26.508\n",
      "'construct_r0_CIs' executed in 542.330239s\n",
      "Constructing r0 CIs...\n",
      "\n",
      "Saving...\n"
     ]
    },
    {
     "name": "stderr",
     "output_type": "stream",
     "text": [
      "  5%|▍         | 13/288 [09:04<25:28,  5.56s/it]"
     ]
    },
    {
     "name": "stdout",
     "output_type": "stream",
     "text": [
      "Coverage: 0.219\n",
      "Average ME: 222.484\n",
      "'construct_r0_CIs' executed in 544.651211s\n",
      "Constructing r0 CIs...\n",
      "\n",
      "Saving...\n",
      "Saving...\n"
     ]
    },
    {
     "name": "stderr",
     "output_type": "stream",
     "text": [
      "  5%|▍         | 14/288 [09:06<20:36,  4.51s/it]"
     ]
    },
    {
     "name": "stdout",
     "output_type": "stream",
     "text": [
      "Coverage: 0.340\n",
      "Average ME: 34.894\n",
      "'construct_r0_CIs' executed in 546.347588s\n",
      "Constructing r0 CIs...\n",
      "\n"
     ]
    },
    {
     "name": "stderr",
     "output_type": "stream",
     "text": [
      "  5%|▌         | 15/288 [09:06<15:09,  3.33s/it]"
     ]
    },
    {
     "name": "stdout",
     "output_type": "stream",
     "text": [
      "Coverage: 0.389\n",
      "Average ME: 26.508\n",
      "'construct_r0_CIs' executed in 546.711149s\n",
      "Constructing r0 CIs...\n",
      "\n",
      "Saving...\n"
     ]
    },
    {
     "name": "stderr",
     "output_type": "stream",
     "text": [
      "  6%|▌         | 16/288 [09:07<11:51,  2.62s/it]"
     ]
    },
    {
     "name": "stdout",
     "output_type": "stream",
     "text": [
      "Coverage: 0.340\n",
      "Average ME: 34.894\n",
      "'construct_r0_CIs' executed in 547.432947s\n",
      "Saving...\n",
      "Constructing r0 CIs...\n",
      "\n"
     ]
    },
    {
     "name": "stderr",
     "output_type": "stream",
     "text": [
      "  6%|▌         | 17/288 [09:08<09:00,  1.99s/it]"
     ]
    },
    {
     "name": "stdout",
     "output_type": "stream",
     "text": [
      "Coverage: 0.218\n",
      "Average ME: 222.484\n",
      "'construct_r0_CIs' executed in 547.856869s\n",
      "Constructing r0 CIs...\n",
      "\n",
      "Saving...\n"
     ]
    },
    {
     "name": "stderr",
     "output_type": "stream",
     "text": [
      "  6%|▋         | 18/288 [09:14<15:13,  3.38s/it]"
     ]
    },
    {
     "name": "stdout",
     "output_type": "stream",
     "text": [
      "Coverage: 0.388\n",
      "Average ME: 26.508\n",
      "'construct_r0_CIs' executed in 554.746038s\n",
      "Constructing r0 CIs...\n",
      "\n",
      "Saving...\n",
      "Saving...\n"
     ]
    },
    {
     "name": "stderr",
     "output_type": "stream",
     "text": [
      "  7%|▋         | 19/288 [10:19<1:36:27, 21.52s/it]"
     ]
    },
    {
     "name": "stdout",
     "output_type": "stream",
     "text": [
      "Coverage: 0.165\n",
      "Average ME: 8.867\n",
      "'construct_r0_CIs' executed in 619.717249s\n",
      "Constructing r0 CIs...\n",
      "\n"
     ]
    },
    {
     "name": "stderr",
     "output_type": "stream",
     "text": [
      "  7%|▋         | 20/288 [10:20<1:08:15, 15.28s/it]"
     ]
    },
    {
     "name": "stdout",
     "output_type": "stream",
     "text": [
      "Coverage: 0.103\n",
      "Average ME: 8.458\n",
      "'construct_r0_CIs' executed in 620.229114s\n",
      "Constructing r0 CIs...\n",
      "\n",
      "Saving...\n",
      "Saving...\n",
      "Saving...\n"
     ]
    },
    {
     "name": "stderr",
     "output_type": "stream",
     "text": [
      "  7%|▋         | 21/288 [10:23<52:42, 11.84s/it]  "
     ]
    },
    {
     "name": "stdout",
     "output_type": "stream",
     "text": [
      "Coverage: 0.104\n",
      "Average ME: 8.458\n",
      "'construct_r0_CIs' executed in 623.929538s\n",
      "Coverage: 0.165\n",
      "Average ME: 8.868\n",
      "'construct_r0_CIs' executed in 623.983499s\n",
      "Constructing r0 CIs...\n",
      "\n",
      "Constructing r0 CIs...\n",
      "\n",
      "Saving...\n"
     ]
    },
    {
     "name": "stderr",
     "output_type": "stream",
     "text": [
      "  8%|▊         | 23/288 [10:24<28:55,  6.55s/it]"
     ]
    },
    {
     "name": "stdout",
     "output_type": "stream",
     "text": [
      "Saving...\n",
      "Coverage: 0.095\n",
      "Average ME: 27.370\n",
      "'construct_r0_CIs' executed in 624.516629s\n",
      "Constructing r0 CIs...\n",
      "\n"
     ]
    },
    {
     "name": "stderr",
     "output_type": "stream",
     "text": [
      "  8%|▊         | 24/288 [10:24<22:07,  5.03s/it]"
     ]
    },
    {
     "name": "stdout",
     "output_type": "stream",
     "text": [
      "Coverage: 0.389\n",
      "Average ME: 26.508\n",
      "'construct_r0_CIs' executed in 624.954662s\n",
      "Constructing r0 CIs...\n",
      "\n",
      "Coverage: 0.095\n",
      "Average ME: 27.370\n",
      "'construct_r0_CIs' executed in 625.119074s\n"
     ]
    },
    {
     "name": "stderr",
     "output_type": "stream",
     "text": [
      "  9%|▊         | 25/288 [10:25<16:31,  3.77s/it]"
     ]
    },
    {
     "name": "stdout",
     "output_type": "stream",
     "text": [
      "Constructing r0 CIs...\n",
      "\n",
      "Saving...\n"
     ]
    },
    {
     "name": "stderr",
     "output_type": "stream",
     "text": [
      "  9%|▉         | 26/288 [10:26<13:04,  2.99s/it]"
     ]
    },
    {
     "name": "stdout",
     "output_type": "stream",
     "text": [
      "Coverage: 0.095\n",
      "Average ME: 27.370\n",
      "'construct_r0_CIs' executed in 626.006706s\n",
      "Constructing r0 CIs...\n",
      "\n",
      "Saving...\n"
     ]
    },
    {
     "name": "stderr",
     "output_type": "stream",
     "text": [
      "  9%|▉         | 27/288 [10:28<12:46,  2.94s/it]"
     ]
    },
    {
     "name": "stdout",
     "output_type": "stream",
     "text": [
      "Coverage: 0.371\n",
      "Average ME: 27.790\n",
      "'construct_r0_CIs' executed in 628.855082s\n",
      "Constructing r0 CIs...\n",
      "\n",
      "Saving...\n"
     ]
    },
    {
     "name": "stderr",
     "output_type": "stream",
     "text": [
      " 10%|▉         | 28/288 [10:29<10:00,  2.31s/it]"
     ]
    },
    {
     "name": "stdout",
     "output_type": "stream",
     "text": [
      "Coverage: 0.165\n",
      "Average ME: 8.867\n",
      "'construct_r0_CIs' executed in 629.599975s\n",
      "Constructing r0 CIs...\n",
      "\n",
      "Saving...\n"
     ]
    },
    {
     "name": "stderr",
     "output_type": "stream",
     "text": [
      " 10%|█         | 29/288 [10:31<09:03,  2.10s/it]"
     ]
    },
    {
     "name": "stdout",
     "output_type": "stream",
     "text": [
      "Coverage: 0.371\n",
      "Average ME: 27.790\n",
      "'construct_r0_CIs' executed in 631.175621s\n",
      "Constructing r0 CIs...\n",
      "\n",
      "Saving...\n"
     ]
    },
    {
     "name": "stderr",
     "output_type": "stream",
     "text": [
      " 10%|█         | 30/288 [10:32<08:37,  2.01s/it]"
     ]
    },
    {
     "name": "stdout",
     "output_type": "stream",
     "text": [
      "Saving...\n",
      "Coverage: 0.371\n",
      "Average ME: 27.790\n",
      "'construct_r0_CIs' executed in 632.937977s\n",
      "Constructing r0 CIs...\n",
      "\n",
      "Saving...\n",
      "Saving...\n"
     ]
    },
    {
     "name": "stderr",
     "output_type": "stream",
     "text": [
      " 11%|█         | 31/288 [10:33<07:01,  1.64s/it]"
     ]
    },
    {
     "name": "stdout",
     "output_type": "stream",
     "text": [
      "Coverage: 0.103\n",
      "Average ME: 8.458\n",
      "'construct_r0_CIs' executed in 633.658972s\n",
      "Constructing r0 CIs...\n",
      "\n"
     ]
    },
    {
     "name": "stderr",
     "output_type": "stream",
     "text": [
      " 11%|█▏        | 33/288 [10:34<03:55,  1.08it/s]"
     ]
    },
    {
     "name": "stdout",
     "output_type": "stream",
     "text": [
      "Coverage: 0.403\n",
      "Average ME: 85.920\n",
      "'construct_r0_CIs' executed in 634.069603s\n",
      "Saving...\n",
      "Coverage: 0.403\n",
      "Average ME: 85.920\n",
      "Constructing r0 CIs...\n",
      "\n",
      "'construct_r0_CIs' executed in 634.170428s\n",
      "Constructing r0 CIs...\n",
      "\n"
     ]
    },
    {
     "name": "stderr",
     "output_type": "stream",
     "text": [
      " 12%|█▏        | 34/288 [10:34<03:35,  1.18it/s]"
     ]
    },
    {
     "name": "stdout",
     "output_type": "stream",
     "text": [
      "Coverage: 0.389\n",
      "Average ME: 26.508\n",
      "'construct_r0_CIs' executed in 634.818627s\n",
      "Constructing r0 CIs...\n",
      "\n",
      "Saving...\n",
      "Saving...\n"
     ]
    },
    {
     "name": "stderr",
     "output_type": "stream",
     "text": [
      " 12%|█▏        | 35/288 [10:40<10:05,  2.39s/it]"
     ]
    },
    {
     "name": "stdout",
     "output_type": "stream",
     "text": [
      "Saving...\n",
      "Coverage: 0.389\n",
      "Average ME: 26.508\n",
      "'construct_r0_CIs' executed in 640.885050s\n",
      "Saving...\n",
      "Constructing r0 CIs...\n",
      "\n"
     ]
    },
    {
     "name": "stderr",
     "output_type": "stream",
     "text": [
      " 12%|█▎        | 36/288 [10:41<07:33,  1.80s/it]"
     ]
    },
    {
     "name": "stdout",
     "output_type": "stream",
     "text": [
      "Coverage: 0.403\n",
      "Average ME: 85.920\n",
      "'construct_r0_CIs' executed in 641.250777s\n",
      "Coverage: 0.103\n",
      "Average ME: 8.458\n",
      "'construct_r0_CIs' executed in 641.296485s\n"
     ]
    },
    {
     "name": "stderr",
     "output_type": "stream",
     "text": [
      " 13%|█▎        | 38/288 [10:41<04:08,  1.01it/s]"
     ]
    },
    {
     "name": "stdout",
     "output_type": "stream",
     "text": [
      "Constructing r0 CIs...\n",
      "Constructing r0 CIs...\n",
      "\n",
      "\n",
      "Coverage: 0.127\n",
      "Average ME: 11.131\n",
      "'construct_r0_CIs' executed in 641.620259s\n",
      "Constructing r0 CIs...\n",
      "\n",
      "Saving...\n"
     ]
    },
    {
     "name": "stderr",
     "output_type": "stream",
     "text": [
      " 14%|█▎        | 39/288 [10:44<06:01,  1.45s/it]"
     ]
    },
    {
     "name": "stdout",
     "output_type": "stream",
     "text": [
      "Coverage: 0.389\n",
      "Average ME: 26.508\n",
      "'construct_r0_CIs' executed in 644.179300s\n",
      "Constructing r0 CIs...\n",
      "\n",
      "Saving...\n"
     ]
    },
    {
     "name": "stderr",
     "output_type": "stream",
     "text": [
      " 14%|█▍        | 40/288 [10:46<07:17,  1.76s/it]"
     ]
    },
    {
     "name": "stdout",
     "output_type": "stream",
     "text": [
      "Saving...\n",
      "Coverage: 0.128\n",
      "Average ME: 11.132\n",
      "'construct_r0_CIs' executed in 646.639857s\n",
      "Constructing r0 CIs...\n",
      "\n"
     ]
    },
    {
     "name": "stderr",
     "output_type": "stream",
     "text": [
      " 14%|█▍        | 41/288 [10:47<06:15,  1.52s/it]"
     ]
    },
    {
     "name": "stdout",
     "output_type": "stream",
     "text": [
      "Saving...\n",
      "Coverage: 0.104\n",
      "Average ME: 8.458\n",
      "'construct_r0_CIs' executed in 647.542980s\n",
      "Constructing r0 CIs...\n",
      "\n"
     ]
    },
    {
     "name": "stderr",
     "output_type": "stream",
     "text": [
      " 15%|█▍        | 42/288 [10:48<05:07,  1.25s/it]"
     ]
    },
    {
     "name": "stdout",
     "output_type": "stream",
     "text": [
      "Coverage: 0.127\n",
      "Average ME: 11.131\n",
      "'construct_r0_CIs' executed in 648.181076s\n",
      "Constructing r0 CIs...\n",
      "\n",
      "Saving...\n",
      "Saving...\n"
     ]
    },
    {
     "name": "stderr",
     "output_type": "stream",
     "text": [
      " 15%|█▍        | 43/288 [10:49<05:07,  1.26s/it]"
     ]
    },
    {
     "name": "stdout",
     "output_type": "stream",
     "text": [
      "Saving...\n",
      "Coverage: 0.389\n",
      "Average ME: 26.508\n",
      "'construct_r0_CIs' executed in 649.496639s\n",
      "Coverage: 0.389\n",
      "Average ME: 26.508\n",
      "'construct_r0_CIs' executed in 649.618029s\n",
      "Constructing r0 CIs...\n",
      "\n"
     ]
    },
    {
     "name": "stderr",
     "output_type": "stream",
     "text": [
      " 15%|█▌        | 44/288 [10:49<03:49,  1.06it/s]"
     ]
    },
    {
     "name": "stdout",
     "output_type": "stream",
     "text": [
      "Constructing r0 CIs...\n",
      "\n",
      "Saving...\n"
     ]
    },
    {
     "name": "stderr",
     "output_type": "stream",
     "text": [
      " 16%|█▌        | 45/288 [10:50<03:17,  1.23it/s]"
     ]
    },
    {
     "name": "stdout",
     "output_type": "stream",
     "text": [
      "Saving...\n",
      "Coverage: 0.340\n",
      "Average ME: 34.894\n",
      "'construct_r0_CIs' executed in 650.144824s\n",
      "Constructing r0 CIs...\n",
      "\n",
      "Coverage: 0.340\n",
      "Average ME: 34.894\n",
      "Coverage: 0.340\n",
      "Average ME: 34.894\n"
     ]
    },
    {
     "name": "stderr",
     "output_type": "stream",
     "text": [
      " 16%|█▌        | 46/288 [10:50<02:56,  1.37it/s]"
     ]
    },
    {
     "name": "stdout",
     "output_type": "stream",
     "text": [
      "'construct_r0_CIs' executed in 650.735869s\n",
      "'construct_r0_CIs' executed in 650.757501s\n",
      "Constructing r0 CIs...\n",
      "\n",
      "Constructing r0 CIs...\n",
      "\n",
      "Saving...\n"
     ]
    },
    {
     "name": "stderr",
     "output_type": "stream",
     "text": [
      " 17%|█▋        | 48/288 [10:56<06:30,  1.63s/it]"
     ]
    },
    {
     "name": "stdout",
     "output_type": "stream",
     "text": [
      "Coverage: 0.103\n",
      "Average ME: 8.458\n",
      "'construct_r0_CIs' executed in 656.135065s\n",
      "Constructing r0 CIs...\n",
      "\n",
      "Saving...\n"
     ]
    },
    {
     "name": "stderr",
     "output_type": "stream",
     "text": [
      " 17%|█▋        | 49/288 [10:59<08:02,  2.02s/it]"
     ]
    },
    {
     "name": "stdout",
     "output_type": "stream",
     "text": [
      "Coverage: 0.219\n",
      "Average ME: 222.484\n",
      "'construct_r0_CIs' executed in 659.249908s\n",
      "Constructing r0 CIs...\n",
      "\n",
      "Saving...\n"
     ]
    },
    {
     "name": "stderr",
     "output_type": "stream",
     "text": [
      " 17%|█▋        | 50/288 [12:08<1:17:51, 19.63s/it]"
     ]
    },
    {
     "name": "stdout",
     "output_type": "stream",
     "text": [
      "Coverage: 0.095\n",
      "Average ME: 27.370\n",
      "'construct_r0_CIs' executed in 728.716910s\n",
      "Constructing r0 CIs...\n",
      "\n",
      "Saving...\n"
     ]
    },
    {
     "name": "stderr",
     "output_type": "stream",
     "text": [
      " 18%|█▊        | 51/288 [12:12<1:00:25, 15.30s/it]"
     ]
    },
    {
     "name": "stdout",
     "output_type": "stream",
     "text": [
      "Coverage: 0.165\n",
      "Average ME: 8.867\n",
      "'construct_r0_CIs' executed in 732.463200s\n",
      "Constructing r0 CIs...\n",
      "\n",
      "Saving...\n"
     ]
    },
    {
     "name": "stderr",
     "output_type": "stream",
     "text": [
      " 18%|█▊        | 52/288 [12:20<52:29, 13.35s/it]  "
     ]
    },
    {
     "name": "stdout",
     "output_type": "stream",
     "text": [
      "Coverage: 0.165\n",
      "Average ME: 8.867\n",
      "'construct_r0_CIs' executed in 740.741014s\n",
      "Constructing r0 CIs...\n",
      "\n",
      "Saving...\n",
      "Saving...\n"
     ]
    },
    {
     "name": "stderr",
     "output_type": "stream",
     "text": [
      " 18%|█▊        | 53/288 [12:23<40:14, 10.27s/it]"
     ]
    },
    {
     "name": "stdout",
     "output_type": "stream",
     "text": [
      "Coverage: 0.095\n",
      "Average ME: 27.370\n",
      "'construct_r0_CIs' executed in 743.266469s\n",
      "Constructing r0 CIs...\n",
      "\n",
      "Coverage: 0.095\n",
      "Average ME: 27.370\n",
      "'construct_r0_CIs' executed in 743.395137s\n",
      "Constructing r0 CIs...\n",
      "\n",
      "Saving...\n"
     ]
    },
    {
     "name": "stderr",
     "output_type": "stream",
     "text": [
      " 19%|█▉        | 55/288 [12:25<23:35,  6.08s/it]"
     ]
    },
    {
     "name": "stdout",
     "output_type": "stream",
     "text": [
      "Coverage: 0.165\n",
      "Average ME: 8.867\n",
      "'construct_r0_CIs' executed in 745.187328s\n",
      "Constructing r0 CIs...\n",
      "\n",
      "Saving...\n"
     ]
    },
    {
     "name": "stderr",
     "output_type": "stream",
     "text": [
      " 19%|█▉        | 56/288 [12:26<18:32,  4.79s/it]"
     ]
    },
    {
     "name": "stdout",
     "output_type": "stream",
     "text": [
      "Saving...\n",
      "Coverage: 0.103\n",
      "Average ME: 8.458\n",
      "'construct_r0_CIs' executed in 746.054687s\n",
      "Constructing r0 CIs...\n",
      "\n"
     ]
    },
    {
     "name": "stderr",
     "output_type": "stream",
     "text": [
      " 20%|█▉        | 57/288 [12:26<14:05,  3.66s/it]"
     ]
    },
    {
     "name": "stdout",
     "output_type": "stream",
     "text": [
      "Coverage: 0.103\n",
      "Average ME: 8.458\n",
      "'construct_r0_CIs' executed in 746.451562s\n",
      "Constructing r0 CIs...\n",
      "\n",
      "Saving...\n"
     ]
    },
    {
     "name": "stderr",
     "output_type": "stream",
     "text": [
      " 20%|██        | 58/288 [12:28<12:39,  3.30s/it]"
     ]
    },
    {
     "name": "stdout",
     "output_type": "stream",
     "text": [
      "Coverage: 0.103\n",
      "Average ME: 8.458\n",
      "'construct_r0_CIs' executed in 748.723881s\n",
      "Constructing r0 CIs...\n",
      "\n",
      "Saving...\n"
     ]
    },
    {
     "name": "stderr",
     "output_type": "stream",
     "text": [
      " 20%|██        | 59/288 [12:37<17:54,  4.69s/it]"
     ]
    },
    {
     "name": "stdout",
     "output_type": "stream",
     "text": [
      "Coverage: 0.128\n",
      "Average ME: 11.132\n",
      "'construct_r0_CIs' executed in 756.863600s\n",
      "Constructing r0 CIs...\n",
      "\n",
      "Saving...\n"
     ]
    },
    {
     "name": "stderr",
     "output_type": "stream",
     "text": [
      " 21%|██        | 60/288 [12:37<13:37,  3.59s/it]"
     ]
    },
    {
     "name": "stdout",
     "output_type": "stream",
     "text": [
      "Coverage: 0.103\n",
      "Average ME: 8.458\n",
      "'construct_r0_CIs' executed in 757.771906s\n",
      "Saving...\n",
      "Constructing r0 CIs...\n",
      "\n"
     ]
    },
    {
     "name": "stderr",
     "output_type": "stream",
     "text": [
      " 21%|██        | 61/288 [12:38<10:06,  2.67s/it]"
     ]
    },
    {
     "name": "stdout",
     "output_type": "stream",
     "text": [
      "Coverage: 0.103\n",
      "Average ME: 8.458\n",
      "'construct_r0_CIs' executed in 758.145354s\n",
      "Constructing r0 CIs...\n",
      "\n",
      "Saving...\n"
     ]
    },
    {
     "name": "stderr",
     "output_type": "stream",
     "text": [
      " 22%|██▏       | 62/288 [12:40<09:45,  2.59s/it]"
     ]
    },
    {
     "name": "stdout",
     "output_type": "stream",
     "text": [
      "Coverage: 0.127\n",
      "Average ME: 11.131\n",
      "'construct_r0_CIs' executed in 760.532144s\n",
      "Constructing r0 CIs...\n",
      "\n",
      "Saving...\n"
     ]
    },
    {
     "name": "stderr",
     "output_type": "stream",
     "text": [
      " 22%|██▏       | 63/288 [12:45<11:50,  3.16s/it]"
     ]
    },
    {
     "name": "stdout",
     "output_type": "stream",
     "text": [
      "Coverage: 0.103\n",
      "Average ME: 8.458\n",
      "'construct_r0_CIs' executed in 765.042636s\n",
      "Constructing r0 CIs...\n",
      "\n",
      "Saving...\n",
      "Coverage: 0.127\n",
      "Average ME: 11.131\n",
      "'construct_r0_CIs' executed in 770.119155s\n"
     ]
    },
    {
     "name": "stderr",
     "output_type": "stream",
     "text": [
      " 22%|██▏       | 64/288 [12:50<13:54,  3.73s/it]"
     ]
    },
    {
     "name": "stdout",
     "output_type": "stream",
     "text": [
      "Constructing r0 CIs...\n",
      "\n",
      "Saving...\n"
     ]
    },
    {
     "name": "stderr",
     "output_type": "stream",
     "text": [
      " 23%|██▎       | 65/288 [20:15<8:21:28, 134.92s/it]"
     ]
    },
    {
     "name": "stdout",
     "output_type": "stream",
     "text": [
      "Coverage: 0.219\n",
      "Average ME: 222.484\n",
      "'construct_r0_CIs' executed in 685.586115s\n",
      "Constructing r0 CIs...\n",
      "\n",
      "Saving...\n"
     ]
    },
    {
     "name": "stderr",
     "output_type": "stream",
     "text": [
      " 23%|██▎       | 66/288 [20:16<5:50:59, 94.86s/it] "
     ]
    },
    {
     "name": "stdout",
     "output_type": "stream",
     "text": [
      "Coverage: 0.219\n",
      "Average ME: 222.484\n",
      "'construct_r0_CIs' executed in 684.463712s\n",
      "Constructing r0 CIs...\n",
      "\n",
      "Saving...\n"
     ]
    },
    {
     "name": "stderr",
     "output_type": "stream",
     "text": [
      " 23%|██▎       | 67/288 [20:31<4:21:47, 71.08s/it]"
     ]
    },
    {
     "name": "stdout",
     "output_type": "stream",
     "text": [
      "Coverage: 0.062\n",
      "Average ME: 70.949\n",
      "'construct_r0_CIs' executed in 698.938463s\n",
      "Constructing r0 CIs...\n",
      "\n",
      "Saving...\n"
     ]
    },
    {
     "name": "stderr",
     "output_type": "stream",
     "text": [
      " 24%|██▎       | 68/288 [20:35<3:07:48, 51.22s/it]"
     ]
    },
    {
     "name": "stdout",
     "output_type": "stream",
     "text": [
      "Coverage: 0.062\n",
      "Average ME: 70.949\n",
      "'construct_r0_CIs' executed in 703.751058s\n",
      "Constructing r0 CIs...\n",
      "\n",
      "Saving...\n"
     ]
    },
    {
     "name": "stderr",
     "output_type": "stream",
     "text": [
      " 24%|██▍       | 69/288 [20:37<2:12:46, 36.38s/it]"
     ]
    },
    {
     "name": "stdout",
     "output_type": "stream",
     "text": [
      "Coverage: 0.062\n",
      "Average ME: 70.949\n",
      "'construct_r0_CIs' executed in 705.364916s\n",
      "Constructing r0 CIs...\n",
      "\n",
      "Saving...\n"
     ]
    },
    {
     "name": "stderr",
     "output_type": "stream",
     "text": [
      " 24%|██▍       | 70/288 [21:41<2:42:21, 44.69s/it]"
     ]
    },
    {
     "name": "stdout",
     "output_type": "stream",
     "text": [
      "Saving...\n",
      "Coverage: 0.062\n",
      "Average ME: 70.949\n",
      "'construct_r0_CIs' executed in 766.669405s\n",
      "Constructing r0 CIs...\n",
      "\n",
      "Coverage: 0.062\n",
      "Average ME: 70.949\n",
      "'construct_r0_CIs' executed in 766.758155s\n"
     ]
    },
    {
     "name": "stderr",
     "output_type": "stream",
     "text": [
      " 25%|██▍       | 71/288 [21:41<1:53:20, 31.34s/it]"
     ]
    },
    {
     "name": "stdout",
     "output_type": "stream",
     "text": [
      "Constructing r0 CIs...\n",
      "\n",
      "Saving...\n"
     ]
    },
    {
     "name": "stderr",
     "output_type": "stream",
     "text": [
      " 25%|██▌       | 72/288 [21:44<1:21:24, 22.61s/it]"
     ]
    },
    {
     "name": "stdout",
     "output_type": "stream",
     "text": [
      "Coverage: 0.062\n",
      "Average ME: 70.949\n",
      "'construct_r0_CIs' executed in 766.595843s\n",
      "Constructing r0 CIs...\n",
      "\n",
      "Saving...\n"
     ]
    },
    {
     "name": "stderr",
     "output_type": "stream",
     "text": [
      " 25%|██▌       | 73/288 [1:01:34<43:45:31, 732.70s/it]"
     ]
    },
    {
     "name": "stdout",
     "output_type": "stream",
     "text": [
      "Coverage: 0.436\n",
      "Average ME: 86.241\n",
      "'construct_r0_CIs' executed in 3060.042793s\n",
      "Constructing r0 CIs...\n",
      "\n",
      "Saving...\n"
     ]
    },
    {
     "name": "stderr",
     "output_type": "stream",
     "text": [
      " 26%|██▌       | 74/288 [1:01:43<30:38:48, 515.55s/it]"
     ]
    },
    {
     "name": "stdout",
     "output_type": "stream",
     "text": [
      "Coverage: 0.416\n",
      "Average ME: 28.080\n",
      "'construct_r0_CIs' executed in 3165.867273s\n",
      "Constructing r0 CIs...\n",
      "\n",
      "Saving...\n"
     ]
    },
    {
     "name": "stderr",
     "output_type": "stream",
     "text": [
      " 26%|██▌       | 75/288 [1:01:48<21:26:54, 362.51s/it]"
     ]
    },
    {
     "name": "stdout",
     "output_type": "stream",
     "text": [
      "Coverage: 0.431\n",
      "Average ME: 86.244\n",
      "'construct_r0_CIs' executed in 3067.851464s\n",
      "Constructing r0 CIs...\n",
      "\n",
      "Saving...\n"
     ]
    },
    {
     "name": "stderr",
     "output_type": "stream",
     "text": [
      " 26%|██▋       | 76/288 [1:01:52<15:00:55, 254.98s/it]"
     ]
    },
    {
     "name": "stdout",
     "output_type": "stream",
     "text": [
      "Coverage: 0.416\n",
      "Average ME: 28.080\n",
      "'construct_r0_CIs' executed in 3062.431854s\n",
      "Constructing r0 CIs...\n",
      "\n",
      "Saving...\n"
     ]
    },
    {
     "name": "stderr",
     "output_type": "stream",
     "text": [
      " 27%|██▋       | 77/288 [1:01:57<10:32:28, 179.85s/it]"
     ]
    },
    {
     "name": "stdout",
     "output_type": "stream",
     "text": [
      "Coverage: 0.437\n",
      "Average ME: 86.241\n",
      "'construct_r0_CIs' executed in 3083.048782s\n",
      "Constructing r0 CIs...\n",
      "\n",
      "Saving...\n"
     ]
    },
    {
     "name": "stderr",
     "output_type": "stream",
     "text": [
      " 27%|██▋       | 78/288 [1:02:00<7:24:12, 126.91s/it] "
     ]
    },
    {
     "name": "stdout",
     "output_type": "stream",
     "text": [
      "Coverage: 0.411\n",
      "Average ME: 29.242\n",
      "'construct_r0_CIs' executed in 3096.637340s\n",
      "Constructing r0 CIs...\n",
      "\n",
      "Saving...\n"
     ]
    },
    {
     "name": "stderr",
     "output_type": "stream",
     "text": [
      " 27%|██▋       | 79/288 [1:02:08<5:18:01, 91.30s/it] "
     ]
    },
    {
     "name": "stdout",
     "output_type": "stream",
     "text": [
      "Coverage: 0.405\n",
      "Average ME: 28.090\n",
      "'construct_r0_CIs' executed in 3188.991720s\n",
      "Constructing r0 CIs...\n",
      "\n",
      "Saving...\n"
     ]
    },
    {
     "name": "stderr",
     "output_type": "stream",
     "text": [
      " 28%|██▊       | 80/288 [1:02:12<3:45:27, 65.03s/it]"
     ]
    },
    {
     "name": "stdout",
     "output_type": "stream",
     "text": [
      "Coverage: 0.397\n",
      "Average ME: 29.250\n",
      "'construct_r0_CIs' executed in 3107.986396s\n",
      "Constructing r0 CIs...\n",
      "\n",
      "Saving...\n"
     ]
    },
    {
     "name": "stderr",
     "output_type": "stream",
     "text": [
      " 28%|██▊       | 81/288 [1:02:20<2:45:01, 47.84s/it]"
     ]
    },
    {
     "name": "stdout",
     "output_type": "stream",
     "text": [
      "Coverage: 0.417\n",
      "Average ME: 29.240\n",
      "'construct_r0_CIs' executed in 3116.350831s\n",
      "Constructing r0 CIs...\n",
      "\n",
      "Saving...\n"
     ]
    },
    {
     "name": "stderr",
     "output_type": "stream",
     "text": [
      " 28%|██▊       | 82/288 [1:02:21<1:55:49, 33.73s/it]"
     ]
    },
    {
     "name": "stdout",
     "output_type": "stream",
     "text": [
      "Coverage: 0.405\n",
      "Average ME: 28.090\n",
      "'construct_r0_CIs' executed in 3090.213197s\n",
      "Constructing r0 CIs...\n",
      "\n",
      "Saving...\n"
     ]
    },
    {
     "name": "stderr",
     "output_type": "stream",
     "text": [
      " 29%|██▉       | 83/288 [1:02:28<1:28:25, 25.88s/it]"
     ]
    },
    {
     "name": "stdout",
     "output_type": "stream",
     "text": [
      "Coverage: 0.413\n",
      "Average ME: 28.081\n",
      "'construct_r0_CIs' executed in 3210.630292s\n",
      "Constructing r0 CIs...\n",
      "\n",
      "Saving...\n"
     ]
    },
    {
     "name": "stderr",
     "output_type": "stream",
     "text": [
      " 29%|██▉       | 84/288 [1:02:35<1:08:16, 20.08s/it]"
     ]
    },
    {
     "name": "stdout",
     "output_type": "stream",
     "text": [
      "Coverage: 0.316\n",
      "Average ME: 36.125\n",
      "'construct_r0_CIs' executed in 2998.181193s\n",
      "Constructing r0 CIs...\n",
      "\n",
      "Saving...\n"
     ]
    },
    {
     "name": "stderr",
     "output_type": "stream",
     "text": [
      " 30%|██▉       | 85/288 [1:02:36<48:31, 14.34s/it]  "
     ]
    },
    {
     "name": "stdout",
     "output_type": "stream",
     "text": [
      "Coverage: 0.413\n",
      "Average ME: 28.081\n",
      "'construct_r0_CIs' executed in 3105.293977s\n",
      "Constructing r0 CIs...\n",
      "\n",
      "Saving...\n"
     ]
    },
    {
     "name": "stderr",
     "output_type": "stream",
     "text": [
      " 30%|██▉       | 86/288 [1:02:49<46:50, 13.91s/it]"
     ]
    },
    {
     "name": "stdout",
     "output_type": "stream",
     "text": [
      "Coverage: 0.315\n",
      "Average ME: 36.116\n",
      "'construct_r0_CIs' executed in 3022.613620s\n",
      "Constructing r0 CIs...\n",
      "\n",
      "Saving...\n"
     ]
    },
    {
     "name": "stderr",
     "output_type": "stream",
     "text": [
      " 30%|███       | 87/288 [1:02:58<41:54, 12.51s/it]"
     ]
    },
    {
     "name": "stdout",
     "output_type": "stream",
     "text": [
      "Coverage: 0.308\n",
      "Average ME: 36.118\n",
      "'construct_r0_CIs' executed in 3029.566894s\n",
      "Constructing r0 CIs...\n",
      "\n",
      "Saving...\n",
      "Coverage: 0.115\n",
      "Average ME: 9.360\n",
      "'construct_r0_CIs' executed in 3168.617136s\n"
     ]
    },
    {
     "name": "stderr",
     "output_type": "stream",
     "text": [
      " 31%|███       | 88/288 [1:03:19<50:41, 15.21s/it]"
     ]
    },
    {
     "name": "stdout",
     "output_type": "stream",
     "text": [
      "Constructing r0 CIs...\n",
      "\n",
      "Saving...\n"
     ]
    },
    {
     "name": "stderr",
     "output_type": "stream",
     "text": [
      " 31%|███       | 89/288 [1:03:50<1:05:51, 19.86s/it]"
     ]
    },
    {
     "name": "stdout",
     "output_type": "stream",
     "text": [
      "Coverage: 0.112\n",
      "Average ME: 9.329\n",
      "'construct_r0_CIs' executed in 3201.647310s\n",
      "Constructing r0 CIs...\n",
      "\n",
      "Saving...\n"
     ]
    },
    {
     "name": "stderr",
     "output_type": "stream",
     "text": [
      " 31%|███▏      | 90/288 [1:03:51<46:50, 14.20s/it]  "
     ]
    },
    {
     "name": "stdout",
     "output_type": "stream",
     "text": [
      "Coverage: 0.152\n",
      "Average ME: 27.474\n",
      "'construct_r0_CIs' executed in 3187.218464s\n",
      "Constructing r0 CIs...\n",
      "\n",
      "Saving...\n"
     ]
    },
    {
     "name": "stderr",
     "output_type": "stream",
     "text": [
      " 32%|███▏      | 91/288 [1:03:58<39:06, 11.91s/it]"
     ]
    },
    {
     "name": "stdout",
     "output_type": "stream",
     "text": [
      "Coverage: 0.112\n",
      "Average ME: 8.962\n",
      "'construct_r0_CIs' executed in 3290.534439s\n",
      "Constructing r0 CIs...\n",
      "\n",
      "Saving...\n",
      "Coverage: 0.108\n",
      "Average ME: 8.958\n",
      "'construct_r0_CIs' executed in 3318.713741s\n"
     ]
    },
    {
     "name": "stderr",
     "output_type": "stream",
     "text": [
      " 32%|███▏      | 92/288 [1:04:25<54:06, 16.56s/it]"
     ]
    },
    {
     "name": "stdout",
     "output_type": "stream",
     "text": [
      "Constructing r0 CIs...\n",
      "\n",
      "Saving...\n"
     ]
    },
    {
     "name": "stderr",
     "output_type": "stream",
     "text": [
      " 32%|███▏      | 93/288 [1:04:34<46:38, 14.35s/it]"
     ]
    },
    {
     "name": "stdout",
     "output_type": "stream",
     "text": [
      "Coverage: 0.111\n",
      "Average ME: 8.990\n",
      "'construct_r0_CIs' executed in 3326.662726s\n",
      "Constructing r0 CIs...\n",
      "\n",
      "Saving...\n"
     ]
    },
    {
     "name": "stderr",
     "output_type": "stream",
     "text": [
      " 33%|███▎      | 94/288 [1:04:50<47:29, 14.69s/it]"
     ]
    },
    {
     "name": "stdout",
     "output_type": "stream",
     "text": [
      "Coverage: 0.145\n",
      "Average ME: 27.485\n",
      "'construct_r0_CIs' executed in 3242.478635s\n",
      "Constructing r0 CIs...\n",
      "\n",
      "Saving...\n"
     ]
    },
    {
     "name": "stderr",
     "output_type": "stream",
     "text": [
      " 33%|███▎      | 95/288 [1:04:50<33:42, 10.48s/it]"
     ]
    },
    {
     "name": "stdout",
     "output_type": "stream",
     "text": [
      "Coverage: 0.111\n",
      "Average ME: 9.333\n",
      "'construct_r0_CIs' executed in 3261.209438s\n",
      "Constructing r0 CIs...\n",
      "\n",
      "Saving...\n"
     ]
    },
    {
     "name": "stderr",
     "output_type": "stream",
     "text": [
      " 33%|███▎      | 96/288 [1:04:54<27:15,  8.52s/it]"
     ]
    },
    {
     "name": "stdout",
     "output_type": "stream",
     "text": [
      "Coverage: 0.123\n",
      "Average ME: 11.519\n",
      "'construct_r0_CIs' executed in 3129.610652s\n",
      "Constructing r0 CIs...\n",
      "\n",
      "Saving...\n"
     ]
    },
    {
     "name": "stderr",
     "output_type": "stream",
     "text": [
      " 34%|███▎      | 97/288 [1:05:02<26:08,  8.21s/it]"
     ]
    },
    {
     "name": "stdout",
     "output_type": "stream",
     "text": [
      "Coverage: 0.155\n",
      "Average ME: 27.475\n",
      "'construct_r0_CIs' executed in 3255.484123s\n",
      "Constructing r0 CIs...\n",
      "\n",
      "Saving...\n"
     ]
    },
    {
     "name": "stderr",
     "output_type": "stream",
     "text": [
      " 34%|███▍      | 98/288 [1:05:07<22:43,  7.18s/it]"
     ]
    },
    {
     "name": "stdout",
     "output_type": "stream",
     "text": [
      "Coverage: 0.112\n",
      "Average ME: 8.962\n",
      "'construct_r0_CIs' executed in 3166.222177s\n",
      "Constructing r0 CIs...\n",
      "\n",
      "Saving...\n"
     ]
    },
    {
     "name": "stderr",
     "output_type": "stream",
     "text": [
      " 34%|███▍      | 99/288 [1:05:14<22:29,  7.14s/it]"
     ]
    },
    {
     "name": "stdout",
     "output_type": "stream",
     "text": [
      "Coverage: 0.111\n",
      "Average ME: 8.990\n",
      "'construct_r0_CIs' executed in 3170.746026s\n",
      "Constructing r0 CIs...\n",
      "\n",
      "Saving...\n"
     ]
    },
    {
     "name": "stderr",
     "output_type": "stream",
     "text": [
      " 35%|███▍      | 100/288 [1:05:18<19:30,  6.23s/it]"
     ]
    },
    {
     "name": "stdout",
     "output_type": "stream",
     "text": [
      "Coverage: 0.108\n",
      "Average ME: 8.958\n",
      "'construct_r0_CIs' executed in 3185.698828s\n",
      "Constructing r0 CIs...\n",
      "\n",
      "Saving...\n"
     ]
    },
    {
     "name": "stderr",
     "output_type": "stream",
     "text": [
      " 35%|███▌      | 101/288 [1:06:46<1:36:22, 30.92s/it]"
     ]
    },
    {
     "name": "stdout",
     "output_type": "stream",
     "text": [
      "Coverage: 0.437\n",
      "Average ME: 86.241\n",
      "'construct_r0_CIs' executed in 3365.422686s\n",
      "Constructing r0 CIs...\n",
      "\n",
      "Saving...\n"
     ]
    },
    {
     "name": "stderr",
     "output_type": "stream",
     "text": [
      " 35%|███▌      | 102/288 [1:06:55<1:15:10, 24.25s/it]"
     ]
    },
    {
     "name": "stdout",
     "output_type": "stream",
     "text": [
      "Coverage: 0.411\n",
      "Average ME: 29.240\n",
      "'construct_r0_CIs' executed in 3390.230105s\n",
      "Constructing r0 CIs...\n",
      "\n",
      "Saving...\n"
     ]
    },
    {
     "name": "stderr",
     "output_type": "stream",
     "text": [
      " 36%|███▌      | 103/288 [1:07:00<56:36, 18.36s/it]  "
     ]
    },
    {
     "name": "stdout",
     "output_type": "stream",
     "text": [
      "Coverage: 0.413\n",
      "Average ME: 28.080\n",
      "'construct_r0_CIs' executed in 3360.608201s\n",
      "Constructing r0 CIs...\n",
      "\n",
      "Saving...\n"
     ]
    },
    {
     "name": "stderr",
     "output_type": "stream",
     "text": [
      " 36%|███▌      | 104/288 [1:07:00<40:02, 13.06s/it]"
     ]
    },
    {
     "name": "stdout",
     "output_type": "stream",
     "text": [
      "Coverage: 0.417\n",
      "Average ME: 29.240\n",
      "'construct_r0_CIs' executed in 3395.735260s\n",
      "Constructing r0 CIs...\n",
      "\n",
      "Saving...\n"
     ]
    },
    {
     "name": "stderr",
     "output_type": "stream",
     "text": [
      " 36%|███▋      | 105/288 [1:07:08<35:09, 11.53s/it]"
     ]
    },
    {
     "name": "stdout",
     "output_type": "stream",
     "text": [
      "Coverage: 0.404\n",
      "Average ME: 28.081\n",
      "'construct_r0_CIs' executed in 3299.885038s\n",
      "Constructing r0 CIs...\n",
      "\n",
      "Saving...\n"
     ]
    },
    {
     "name": "stderr",
     "output_type": "stream",
     "text": [
      " 37%|███▋      | 106/288 [1:07:11<27:02,  8.91s/it]"
     ]
    },
    {
     "name": "stdout",
     "output_type": "stream",
     "text": [
      "Coverage: 0.397\n",
      "Average ME: 29.241\n",
      "'construct_r0_CIs' executed in 3405.425008s\n",
      "Constructing r0 CIs...\n",
      "\n"
     ]
    },
    {
     "name": "stderr",
     "output_type": "stream",
     "text": [
      " 37%|███▋      | 107/288 [1:07:17<24:03,  7.98s/it]"
     ]
    },
    {
     "name": "stdout",
     "output_type": "stream",
     "text": [
      "Saving...\n",
      "Coverage: 0.413\n",
      "Average ME: 28.080\n",
      "'construct_r0_CIs' executed in 3492.455668s\n",
      "Constructing r0 CIs...\n",
      "\n",
      "Saving...\n",
      "Saving...\n"
     ]
    },
    {
     "name": "stderr",
     "output_type": "stream",
     "text": [
      " 38%|███▊      | 108/288 [1:07:17<17:08,  5.71s/it]"
     ]
    },
    {
     "name": "stdout",
     "output_type": "stream",
     "text": [
      "Coverage: 0.224\n",
      "Average ME: 222.670\n",
      "'construct_r0_CIs' executed in 2800.229446s\n",
      "Constructing r0 CIs...\n",
      "\n",
      "Coverage: 0.416\n",
      "Average ME: 28.080\n",
      "'construct_r0_CIs' executed in 3495.324812s\n",
      "Constructing r0 CIs...\n",
      "\n",
      "Saving...\n"
     ]
    },
    {
     "name": "stderr",
     "output_type": "stream",
     "text": [
      " 38%|███▊      | 110/288 [1:07:21<11:56,  4.03s/it]"
     ]
    },
    {
     "name": "stdout",
     "output_type": "stream",
     "text": [
      "Coverage: 0.436\n",
      "Average ME: 86.241\n",
      "'construct_r0_CIs' executed in 3400.423793s\n",
      "Constructing r0 CIs...\n",
      "\n",
      "Saving...\n",
      "Coverage: 0.226\n",
      "Average ME: 222.672\n",
      "'construct_r0_CIs' executed in 2741.097481s\n"
     ]
    },
    {
     "name": "stderr",
     "output_type": "stream",
     "text": [
      " 39%|███▊      | 111/288 [1:07:22<09:40,  3.28s/it]"
     ]
    },
    {
     "name": "stdout",
     "output_type": "stream",
     "text": [
      "Constructing r0 CIs...\n",
      "\n",
      "Saving...\n",
      "Saving...\n"
     ]
    },
    {
     "name": "stderr",
     "output_type": "stream",
     "text": [
      " 39%|███▉      | 112/288 [1:07:25<09:27,  3.23s/it]"
     ]
    },
    {
     "name": "stdout",
     "output_type": "stream",
     "text": [
      "Coverage: 0.308\n",
      "Average ME: 36.116Coverage: 0.122\n",
      "Average ME: 11.523\n",
      "'construct_r0_CIs' executed in 3275.622050s\n",
      "\n",
      "'construct_r0_CIs' executed in 3287.634691s\n",
      "Constructing r0 CIs...\n",
      "\n",
      "Constructing r0 CIs...\n",
      "\n",
      "Saving...\n"
     ]
    },
    {
     "name": "stderr",
     "output_type": "stream",
     "text": [
      " 40%|███▉      | 114/288 [1:07:26<05:34,  1.92s/it]"
     ]
    },
    {
     "name": "stdout",
     "output_type": "stream",
     "text": [
      "Coverage: 0.404\n",
      "Average ME: 28.081\n",
      "'construct_r0_CIs' executed in 3499.784594s\n",
      "Constructing r0 CIs...\n",
      "\n"
     ]
    },
    {
     "name": "stderr",
     "output_type": "stream",
     "text": [
      " 40%|███▉      | 115/288 [1:07:29<06:25,  2.23s/it]"
     ]
    },
    {
     "name": "stdout",
     "output_type": "stream",
     "text": [
      "Saving...\n",
      "Coverage: 0.431\n",
      "Average ME: 86.241\n",
      "'construct_r0_CIs' executed in 3407.737409s\n",
      "Constructing r0 CIs...\n",
      "\n",
      "Saving...\n"
     ]
    },
    {
     "name": "stderr",
     "output_type": "stream",
     "text": [
      " 40%|████      | 116/288 [1:07:30<05:36,  1.95s/it]"
     ]
    },
    {
     "name": "stdout",
     "output_type": "stream",
     "text": [
      "Coverage: 0.316\n",
      "Average ME: 36.117\n",
      "'construct_r0_CIs' executed in 3289.931130s\n",
      "Constructing r0 CIs...\n",
      "\n",
      "Saving...\n",
      "Coverage: 0.315\n",
      "Average ME: 36.116\n",
      "'construct_r0_CIs' executed in 3298.437472s\n"
     ]
    },
    {
     "name": "stderr",
     "output_type": "stream",
     "text": [
      " 41%|████      | 117/288 [1:07:36<08:22,  2.94s/it]"
     ]
    },
    {
     "name": "stdout",
     "output_type": "stream",
     "text": [
      "Constructing r0 CIs...\n",
      "\n",
      "Saving...\n"
     ]
    },
    {
     "name": "stderr",
     "output_type": "stream",
     "text": [
      " 41%|████      | 118/288 [1:07:37<06:51,  2.42s/it]"
     ]
    },
    {
     "name": "stdout",
     "output_type": "stream",
     "text": [
      "Coverage: 0.224\n",
      "Average ME: 222.671\n",
      "'construct_r0_CIs' executed in 2755.741738s\n",
      "Constructing r0 CIs...\n",
      "\n"
     ]
    },
    {
     "name": "stderr",
     "output_type": "stream",
     "text": [
      " 41%|████▏     | 119/288 [1:07:39<06:56,  2.47s/it]"
     ]
    },
    {
     "name": "stdout",
     "output_type": "stream",
     "text": [
      "Saving...\n",
      "Coverage: 0.416\n",
      "Average ME: 28.080\n",
      "'construct_r0_CIs' executed in 3403.715571s\n",
      "Constructing r0 CIs...\n",
      "\n",
      "Saving...\n",
      "Coverage: 0.112\n",
      "Average ME: 9.329\n",
      "'construct_r0_CIs' executed in 3461.210241s\n"
     ]
    },
    {
     "name": "stderr",
     "output_type": "stream",
     "text": [
      " 42%|████▏     | 120/288 [1:08:14<32:22, 11.56s/it]"
     ]
    },
    {
     "name": "stdout",
     "output_type": "stream",
     "text": [
      "Constructing r0 CIs...\n",
      "\n"
     ]
    },
    {
     "name": "stderr",
     "output_type": "stream",
     "text": [
      " 42%|████▏     | 121/288 [1:08:15<23:45,  8.54s/it]"
     ]
    },
    {
     "name": "stdout",
     "output_type": "stream",
     "text": [
      "Saving...\n",
      "Coverage: 0.155\n",
      "Average ME: 27.474\n",
      "'construct_r0_CIs' executed in 3445.737352s\n",
      "Constructing r0 CIs...\n",
      "\n"
     ]
    },
    {
     "name": "stderr",
     "output_type": "stream",
     "text": [
      " 42%|████▏     | 122/288 [1:08:17<18:48,  6.80s/it]"
     ]
    },
    {
     "name": "stdout",
     "output_type": "stream",
     "text": [
      "Saving...\n",
      "Coverage: 0.115\n",
      "Average ME: 9.332\n",
      "'construct_r0_CIs' executed in 3463.815404s\n",
      "Constructing r0 CIs...\n",
      "\n",
      "Saving...\n"
     ]
    },
    {
     "name": "stderr",
     "output_type": "stream",
     "text": [
      " 43%|████▎     | 123/288 [1:08:26<20:06,  7.31s/it]"
     ]
    },
    {
     "name": "stdout",
     "output_type": "stream",
     "text": [
      "Coverage: 0.145\n",
      "Average ME: 27.475\n",
      "'construct_r0_CIs' executed in 3456.746550s\n",
      "Constructing r0 CIs...\n",
      "\n",
      "Saving...\n"
     ]
    },
    {
     "name": "stderr",
     "output_type": "stream",
     "text": [
      " 43%|████▎     | 124/288 [1:08:32<18:59,  6.95s/it]"
     ]
    },
    {
     "name": "stdout",
     "output_type": "stream",
     "text": [
      "Coverage: 0.108\n",
      "Average ME: 8.958\n",
      "'construct_r0_CIs' executed in 3557.698533s\n",
      "Constructing r0 CIs...\n",
      "\n"
     ]
    },
    {
     "name": "stderr",
     "output_type": "stream",
     "text": [
      " 43%|████▎     | 125/288 [1:08:42<21:03,  7.75s/it]"
     ]
    },
    {
     "name": "stdout",
     "output_type": "stream",
     "text": [
      "Saving...\n",
      "Coverage: 0.112\n",
      "Average ME: 8.958\n",
      "'construct_r0_CIs' executed in 3502.449865s\n",
      "Constructing r0 CIs...\n",
      "\n",
      "Saving...\n"
     ]
    },
    {
     "name": "stderr",
     "output_type": "stream",
     "text": [
      " 44%|████▍     | 126/288 [1:08:46<18:20,  6.80s/it]"
     ]
    },
    {
     "name": "stdout",
     "output_type": "stream",
     "text": [
      "Coverage: 0.152\n",
      "Average ME: 27.474\n",
      "'construct_r0_CIs' executed in 3478.398370s\n",
      "Constructing r0 CIs...\n",
      "\n",
      "Saving...\n",
      "Coverage: 0.108\n",
      "Average ME: 8.958\n",
      "'construct_r0_CIs' executed in 3387.302995s\n",
      "Constructing r0 CIs...\n",
      "\n"
     ]
    },
    {
     "name": "stderr",
     "output_type": "stream",
     "text": [
      " 44%|████▍     | 128/288 [1:08:53<13:12,  4.95s/it]"
     ]
    },
    {
     "name": "stdout",
     "output_type": "stream",
     "text": [
      "Saving...\n",
      "Coverage: 0.109\n",
      "Average ME: 11.545\n",
      "'construct_r0_CIs' executed in 2917.859960s\n",
      "Constructing r0 CIs...\n",
      "\n"
     ]
    },
    {
     "name": "stderr",
     "output_type": "stream",
     "text": [
      " 45%|████▍     | 129/288 [1:08:54<10:12,  3.85s/it]"
     ]
    },
    {
     "name": "stdout",
     "output_type": "stream",
     "text": [
      "Saving...\n",
      "Coverage: 0.110\n",
      "Average ME: 8.961\n",
      "'construct_r0_CIs' executed in 3514.382127s\n",
      "Constructing r0 CIs...\n",
      "\n"
     ]
    },
    {
     "name": "stderr",
     "output_type": "stream",
     "text": [
      " 45%|████▌     | 130/288 [1:08:56<08:42,  3.31s/it]"
     ]
    },
    {
     "name": "stdout",
     "output_type": "stream",
     "text": [
      "Saving...\n",
      "Coverage: 0.111\n",
      "Average ME: 9.329\n",
      "'construct_r0_CIs' executed in 3502.947272s\n",
      "Constructing r0 CIs...\n",
      "\n"
     ]
    },
    {
     "name": "stderr",
     "output_type": "stream",
     "text": [
      " 45%|████▌     | 131/288 [1:09:02<10:18,  3.94s/it]"
     ]
    },
    {
     "name": "stdout",
     "output_type": "stream",
     "text": [
      "Saving...\n",
      "Coverage: 0.110\n",
      "Average ME: 8.961\n",
      "'construct_r0_CIs' executed in 3396.005246s\n",
      "Constructing r0 CIs...\n",
      "\n"
     ]
    },
    {
     "name": "stderr",
     "output_type": "stream",
     "text": [
      " 46%|████▌     | 132/288 [1:09:09<12:36,  4.85s/it]"
     ]
    },
    {
     "name": "stdout",
     "output_type": "stream",
     "text": [
      "Saving...\n",
      "Coverage: 0.112\n",
      "Average ME: 8.958\n",
      "'construct_r0_CIs' executed in 3403.829240s\n",
      "Constructing r0 CIs...\n",
      "\n"
     ]
    },
    {
     "name": "stderr",
     "output_type": "stream",
     "text": [
      " 46%|████▌     | 133/288 [1:10:20<1:04:26, 24.94s/it]"
     ]
    },
    {
     "name": "stdout",
     "output_type": "stream",
     "text": [
      "Saving...\n",
      "Coverage: 0.224\n",
      "Average ME: 222.670\n",
      "'construct_r0_CIs' executed in 2916.884426s\n",
      "Constructing r0 CIs...\n",
      "\n"
     ]
    },
    {
     "name": "stderr",
     "output_type": "stream",
     "text": [
      " 47%|████▋     | 134/288 [1:11:06<1:19:39, 31.04s/it]"
     ]
    },
    {
     "name": "stdout",
     "output_type": "stream",
     "text": [
      "Saving...\n",
      "Coverage: 0.108\n",
      "Average ME: 11.521\n",
      "'construct_r0_CIs' executed in 3030.331452s\n",
      "Constructing r0 CIs...\n",
      "\n"
     ]
    },
    {
     "name": "stderr",
     "output_type": "stream",
     "text": [
      " 47%|████▋     | 135/288 [1:11:12<1:00:24, 23.69s/it]"
     ]
    },
    {
     "name": "stdout",
     "output_type": "stream",
     "text": [
      "Saving...\n",
      "Coverage: 0.122\n",
      "Average ME: 11.519\n",
      "'construct_r0_CIs' executed in 3041.494081s\n",
      "Constructing r0 CIs...\n",
      "\n"
     ]
    },
    {
     "name": "stderr",
     "output_type": "stream",
     "text": [
      " 47%|████▋     | 136/288 [1:11:13<42:44, 16.87s/it]  "
     ]
    },
    {
     "name": "stdout",
     "output_type": "stream",
     "text": [
      "Saving...\n",
      "Coverage: 0.123\n",
      "Average ME: 11.519\n",
      "'construct_r0_CIs' executed in 3057.687966s\n",
      "Constructing r0 CIs...\n",
      "\n"
     ]
    },
    {
     "name": "stderr",
     "output_type": "stream",
     "text": [
      " 48%|████▊     | 137/288 [1:22:34<9:03:26, 215.94s/it]"
     ]
    },
    {
     "name": "stdout",
     "output_type": "stream",
     "text": [
      "Saving...\n",
      "Coverage: 0.061\n",
      "Average ME: 71.006\n",
      "'construct_r0_CIs' executed in 1241.421127s\n",
      "Constructing r0 CIs...\n",
      "\n"
     ]
    },
    {
     "name": "stderr",
     "output_type": "stream",
     "text": [
      " 48%|████▊     | 138/288 [1:22:34<6:18:07, 151.25s/it]"
     ]
    },
    {
     "name": "stdout",
     "output_type": "stream",
     "text": [
      "Saving...\n",
      "Coverage: 0.058\n",
      "Average ME: 71.011\n",
      "'construct_r0_CIs' executed in 1237.171661s\n",
      "Constructing r0 CIs...\n",
      "\n"
     ]
    },
    {
     "name": "stderr",
     "output_type": "stream",
     "text": [
      " 48%|████▊     | 139/288 [1:22:42<4:28:34, 108.15s/it]"
     ]
    },
    {
     "name": "stdout",
     "output_type": "stream",
     "text": [
      "Saving...\n",
      "Coverage: 0.061\n",
      "Average ME: 71.006\n",
      "'construct_r0_CIs' executed in 1253.287606s\n",
      "Constructing r0 CIs...\n",
      "\n",
      "Saving...\n"
     ]
    },
    {
     "name": "stderr",
     "output_type": "stream",
     "text": [
      " 49%|████▊     | 140/288 [1:23:24<3:37:52, 88.33s/it] "
     ]
    },
    {
     "name": "stdout",
     "output_type": "stream",
     "text": [
      "Coverage: 0.224\n",
      "Average ME: 222.670\n",
      "'construct_r0_CIs' executed in 1309.232132s\n",
      "Constructing r0 CIs...\n",
      "\n"
     ]
    },
    {
     "name": "stderr",
     "output_type": "stream",
     "text": [
      " 49%|████▉     | 141/288 [1:23:39<2:42:55, 66.50s/it]"
     ]
    },
    {
     "name": "stdout",
     "output_type": "stream",
     "text": [
      "Saving...\n",
      "Coverage: 0.226\n",
      "Average ME: 222.671\n",
      "'construct_r0_CIs' executed in 1316.204631s\n",
      "Constructing r0 CIs...\n",
      "\n"
     ]
    },
    {
     "name": "stderr",
     "output_type": "stream",
     "text": [
      " 49%|████▉     | 142/288 [1:24:14<2:18:55, 57.09s/it]"
     ]
    },
    {
     "name": "stdout",
     "output_type": "stream",
     "text": [
      "Saving...\n",
      "Coverage: 0.061\n",
      "Average ME: 71.006\n",
      "'construct_r0_CIs' executed in 1325.992794s\n",
      "Constructing r0 CIs...\n",
      "\n"
     ]
    },
    {
     "name": "stderr",
     "output_type": "stream",
     "text": [
      " 50%|████▉     | 143/288 [1:24:15<1:37:20, 40.28s/it]"
     ]
    },
    {
     "name": "stdout",
     "output_type": "stream",
     "text": [
      "Saving...\n",
      "Coverage: 0.061\n",
      "Average ME: 71.006\n",
      "'construct_r0_CIs' executed in 1335.216271s\n",
      "Constructing r0 CIs...\n",
      "\n"
     ]
    },
    {
     "name": "stderr",
     "output_type": "stream",
     "text": [
      " 50%|█████     | 144/288 [1:24:18<1:09:29, 28.95s/it]"
     ]
    },
    {
     "name": "stdout",
     "output_type": "stream",
     "text": [
      "Saving...\n",
      "Coverage: 0.058\n",
      "Average ME: 71.006\n",
      "'construct_r0_CIs' executed in 1325.821667s\n",
      "Constructing r0 CIs...\n",
      "\n"
     ]
    },
    {
     "name": "stderr",
     "output_type": "stream",
     "text": [
      " 50%|█████     | 145/288 [1:48:34<18:09:05, 456.96s/it]"
     ]
    },
    {
     "name": "stdout",
     "output_type": "stream",
     "text": [
      "Saving...\n",
      "Coverage: 0.754\n",
      "Average ME: 0.366\n",
      "'construct_r0_CIs' executed in 2772.918972s\n",
      "Constructing r0 CIs...\n",
      "\n",
      "Saving...\n"
     ]
    },
    {
     "name": "stderr",
     "output_type": "stream",
     "text": [
      " 51%|█████     | 146/288 [1:48:46<12:45:51, 323.60s/it]"
     ]
    },
    {
     "name": "stdout",
     "output_type": "stream",
     "text": [
      "Coverage: 0.807\n",
      "Average ME: 0.414\n",
      "'construct_r0_CIs' executed in 2777.812605s\n",
      "Constructing r0 CIs...\n",
      "\n"
     ]
    },
    {
     "name": "stderr",
     "output_type": "stream",
     "text": [
      " 51%|█████     | 147/288 [1:48:52<8:56:42, 228.39s/it] "
     ]
    },
    {
     "name": "stdout",
     "output_type": "stream",
     "text": [
      "Saving...\n",
      "Coverage: 0.753\n",
      "Average ME: 0.366\n",
      "'construct_r0_CIs' executed in 2792.411656s\n",
      "Constructing r0 CIs...\n",
      "\n",
      "Saving...\n"
     ]
    },
    {
     "name": "stderr",
     "output_type": "stream",
     "text": [
      " 51%|█████▏    | 148/288 [1:49:28<6:38:09, 170.64s/it]"
     ]
    },
    {
     "name": "stdout",
     "output_type": "stream",
     "text": [
      "Coverage: 0.438\n",
      "Average ME: 8.160\n",
      "'construct_r0_CIs' executed in 2693.888586s\n",
      "Constructing r0 CIs...\n",
      "\n"
     ]
    },
    {
     "name": "stderr",
     "output_type": "stream",
     "text": [
      " 52%|█████▏    | 149/288 [1:49:36<4:41:58, 121.72s/it]"
     ]
    },
    {
     "name": "stdout",
     "output_type": "stream",
     "text": [
      "Saving...\n",
      "Coverage: 0.438\n",
      "Average ME: 8.162\n",
      "'construct_r0_CIs' executed in 2685.328342s\n",
      "Constructing r0 CIs...\n",
      "\n"
     ]
    },
    {
     "name": "stderr",
     "output_type": "stream",
     "text": [
      " 52%|█████▏    | 150/288 [1:49:41<3:19:29, 86.73s/it] "
     ]
    },
    {
     "name": "stdout",
     "output_type": "stream",
     "text": [
      "Saving...\n",
      "Coverage: 0.438\n",
      "Average ME: 8.160\n",
      "'construct_r0_CIs' executed in 2691.117967s\n",
      "Constructing r0 CIs...\n",
      "\n"
     ]
    },
    {
     "name": "stderr",
     "output_type": "stream",
     "text": [
      " 52%|█████▏    | 151/288 [1:50:26<2:49:47, 74.36s/it]"
     ]
    },
    {
     "name": "stdout",
     "output_type": "stream",
     "text": [
      "Saving...\n",
      "Coverage: 0.436\n",
      "Average ME: 81.526\n",
      "'construct_r0_CIs' executed in 2598.099699s\n",
      "Constructing r0 CIs...\n",
      "\n"
     ]
    },
    {
     "name": "stderr",
     "output_type": "stream",
     "text": [
      " 53%|█████▎    | 152/288 [1:50:31<2:01:20, 53.54s/it]"
     ]
    },
    {
     "name": "stdout",
     "output_type": "stream",
     "text": [
      "Saving...\n",
      "Coverage: 0.436\n",
      "Average ME: 81.526\n",
      "'construct_r0_CIs' executed in 2594.422303s\n",
      "Constructing r0 CIs...\n",
      "\n"
     ]
    },
    {
     "name": "stderr",
     "output_type": "stream",
     "text": [
      " 53%|█████▎    | 153/288 [1:50:34<1:26:16, 38.35s/it]"
     ]
    },
    {
     "name": "stdout",
     "output_type": "stream",
     "text": [
      "Saving...\n",
      "Coverage: 0.436\n",
      "Average ME: 81.526\n",
      "'construct_r0_CIs' executed in 2603.115935s\n",
      "Constructing r0 CIs...\n",
      "\n"
     ]
    },
    {
     "name": "stderr",
     "output_type": "stream",
     "text": [
      " 53%|█████▎    | 154/288 [1:50:41<1:04:34, 28.92s/it]"
     ]
    },
    {
     "name": "stdout",
     "output_type": "stream",
     "text": [
      "Saving...\n",
      "Coverage: 0.753\n",
      "Average ME: 0.366\n",
      "'construct_r0_CIs' executed in 2585.189523s\n",
      "Constructing r0 CIs...\n",
      "\n",
      "Saving...\n"
     ]
    },
    {
     "name": "stderr",
     "output_type": "stream",
     "text": [
      " 54%|█████▍    | 155/288 [1:50:48<49:38, 22.40s/it]  "
     ]
    },
    {
     "name": "stdout",
     "output_type": "stream",
     "text": [
      "Coverage: 0.754\n",
      "Average ME: 0.366\n",
      "'construct_r0_CIs' executed in 2591.331353s\n",
      "Constructing r0 CIs...\n",
      "\n"
     ]
    },
    {
     "name": "stderr",
     "output_type": "stream",
     "text": [
      " 54%|█████▍    | 156/288 [1:50:51<36:22, 16.53s/it]"
     ]
    },
    {
     "name": "stdout",
     "output_type": "stream",
     "text": [
      "Saving...\n",
      "Coverage: 0.807\n",
      "Average ME: 0.414\n",
      "'construct_r0_CIs' executed in 2591.587873s\n",
      "Constructing r0 CIs...\n",
      "\n"
     ]
    },
    {
     "name": "stderr",
     "output_type": "stream",
     "text": [
      " 55%|█████▍    | 157/288 [1:51:52<1:04:54, 29.73s/it]"
     ]
    },
    {
     "name": "stdout",
     "output_type": "stream",
     "text": [
      "Saving...\n",
      "Coverage: 0.229\n",
      "Average ME: 22.083\n",
      "'construct_r0_CIs' executed in 2577.427671s\n",
      "Constructing r0 CIs...\n",
      "\n"
     ]
    },
    {
     "name": "stderr",
     "output_type": "stream",
     "text": [
      " 55%|█████▍    | 158/288 [1:51:57<48:20, 22.31s/it]  "
     ]
    },
    {
     "name": "stdout",
     "output_type": "stream",
     "text": [
      "Saving...\n",
      "Coverage: 0.229\n",
      "Average ME: 22.083\n",
      "'construct_r0_CIs' executed in 2580.402948s\n",
      "Constructing r0 CIs...\n",
      "\n"
     ]
    },
    {
     "name": "stderr",
     "output_type": "stream",
     "text": [
      " 55%|█████▌    | 159/288 [1:51:57<33:51, 15.74s/it]"
     ]
    },
    {
     "name": "stdout",
     "output_type": "stream",
     "text": [
      "Saving...\n",
      "Coverage: 0.229\n",
      "Average ME: 22.084\n",
      "'construct_r0_CIs' executed in 2575.418906s\n",
      "Constructing r0 CIs...\n",
      "\n"
     ]
    },
    {
     "name": "stderr",
     "output_type": "stream",
     "text": [
      " 56%|█████▌    | 160/288 [2:12:00<13:13:15, 371.84s/it]"
     ]
    },
    {
     "name": "stdout",
     "output_type": "stream",
     "text": [
      "Saving...\n",
      "Coverage: 0.230\n",
      "Average ME: 220.793\n",
      "'construct_r0_CIs' executed in 2900.551000s\n",
      "Constructing r0 CIs...\n",
      "\n"
     ]
    },
    {
     "name": "stderr",
     "output_type": "stream",
     "text": [
      " 56%|█████▌    | 161/288 [2:12:28<9:28:46, 268.71s/it] "
     ]
    },
    {
     "name": "stdout",
     "output_type": "stream",
     "text": [
      "Saving...\n",
      "Coverage: 0.230\n",
      "Average ME: 220.793\n",
      "'construct_r0_CIs' executed in 2892.440722s\n",
      "Constructing r0 CIs...\n",
      "\n",
      "Saving...\n"
     ]
    },
    {
     "name": "stderr",
     "output_type": "stream",
     "text": [
      " 56%|█████▋    | 162/288 [2:12:29<6:35:31, 188.35s/it]"
     ]
    },
    {
     "name": "stdout",
     "output_type": "stream",
     "text": [
      "Coverage: 0.230\n",
      "Average ME: 220.793\n",
      "'construct_r0_CIs' executed in 2894.317104s\n",
      "Constructing r0 CIs...\n",
      "\n"
     ]
    },
    {
     "name": "stderr",
     "output_type": "stream",
     "text": [
      " 57%|█████▋    | 163/288 [2:27:41<14:05:04, 405.63s/it]"
     ]
    },
    {
     "name": "stdout",
     "output_type": "stream",
     "text": [
      "Saving...\n",
      "Coverage: 0.377\n",
      "Average ME: 0.118\n",
      "'construct_r0_CIs' executed in 5061.956221s\n",
      "Constructing r0 CIs...\n",
      "\n"
     ]
    },
    {
     "name": "stderr",
     "output_type": "stream",
     "text": [
      " 57%|█████▋    | 164/288 [2:28:00<9:58:38, 289.67s/it] "
     ]
    },
    {
     "name": "stdout",
     "output_type": "stream",
     "text": [
      "Saving...\n",
      "Coverage: 0.547\n",
      "Average ME: 0.222\n",
      "'construct_r0_CIs' executed in 5050.327227s\n",
      "Constructing r0 CIs...\n",
      "\n"
     ]
    },
    {
     "name": "stderr",
     "output_type": "stream",
     "text": [
      " 57%|█████▋    | 165/288 [2:28:09<7:00:42, 205.22s/it]"
     ]
    },
    {
     "name": "stdout",
     "output_type": "stream",
     "text": [
      "Saving...\n",
      "Coverage: 0.373\n",
      "Average ME: 0.117\n",
      "'construct_r0_CIs' executed in 5110.732971s\n",
      "Constructing r0 CIs...\n",
      "\n",
      "Saving...\n"
     ]
    },
    {
     "name": "stderr",
     "output_type": "stream",
     "text": [
      " 58%|█████▊    | 166/288 [2:28:54<5:19:57, 157.36s/it]"
     ]
    },
    {
     "name": "stdout",
     "output_type": "stream",
     "text": [
      "Coverage: 0.142\n",
      "Average ME: 2.598\n",
      "'construct_r0_CIs' executed in 5020.628192s\n",
      "Constructing r0 CIs...\n",
      "\n",
      "Saving...\n"
     ]
    },
    {
     "name": "stderr",
     "output_type": "stream",
     "text": [
      " 58%|█████▊    | 167/288 [2:28:56<3:43:01, 110.59s/it]"
     ]
    },
    {
     "name": "stdout",
     "output_type": "stream",
     "text": [
      "Coverage: 0.142\n",
      "Average ME: 2.598\n",
      "'construct_r0_CIs' executed in 5017.992331s\n",
      "Constructing r0 CIs...\n",
      "\n"
     ]
    },
    {
     "name": "stderr",
     "output_type": "stream",
     "text": [
      " 58%|█████▊    | 168/288 [2:29:04<2:39:37, 79.81s/it] "
     ]
    },
    {
     "name": "stdout",
     "output_type": "stream",
     "text": [
      "Saving...\n",
      "Coverage: 0.143\n",
      "Average ME: 2.606\n",
      "'construct_r0_CIs' executed in 4937.448308s\n",
      "Constructing r0 CIs...\n",
      "\n"
     ]
    },
    {
     "name": "stderr",
     "output_type": "stream",
     "text": [
      " 59%|█████▊    | 169/288 [2:29:35<2:09:42, 65.40s/it]"
     ]
    },
    {
     "name": "stdout",
     "output_type": "stream",
     "text": [
      "Saving...\n",
      "Coverage: 0.151\n",
      "Average ME: 25.960\n",
      "'construct_r0_CIs' executed in 4930.034567s\n",
      "Constructing r0 CIs...\n",
      "\n"
     ]
    },
    {
     "name": "stderr",
     "output_type": "stream",
     "text": [
      " 59%|█████▉    | 170/288 [2:29:37<1:31:07, 46.34s/it]"
     ]
    },
    {
     "name": "stdout",
     "output_type": "stream",
     "text": [
      "Saving...\n",
      "Coverage: 0.151\n",
      "Average ME: 25.959\n",
      "'construct_r0_CIs' executed in 4934.959133s\n",
      "Constructing r0 CIs...\n",
      "\n",
      "Saving...\n"
     ]
    },
    {
     "name": "stderr",
     "output_type": "stream",
     "text": [
      " 59%|█████▉    | 171/288 [2:29:49<1:10:14, 36.02s/it]"
     ]
    },
    {
     "name": "stdout",
     "output_type": "stream",
     "text": [
      "Coverage: 0.373\n",
      "Average ME: 0.117\n",
      "'construct_r0_CIs' executed in 4883.282270s\n",
      "Constructing r0 CIs...\n",
      "\n"
     ]
    },
    {
     "name": "stderr",
     "output_type": "stream",
     "text": [
      " 60%|█████▉    | 172/288 [2:29:57<53:12, 27.52s/it]  "
     ]
    },
    {
     "name": "stdout",
     "output_type": "stream",
     "text": [
      "Saving...\n",
      "Coverage: 0.377\n",
      "Average ME: 0.118\n",
      "'construct_r0_CIs' executed in 4884.902731s\n",
      "Constructing r0 CIs...\n",
      "\n",
      "Saving...\n"
     ]
    },
    {
     "name": "stderr",
     "output_type": "stream",
     "text": [
      " 60%|██████    | 173/288 [2:30:11<45:00, 23.49s/it]"
     ]
    },
    {
     "name": "stdout",
     "output_type": "stream",
     "text": [
      "Coverage: 0.547\n",
      "Average ME: 0.222\n",
      "'construct_r0_CIs' executed in 4889.322087s\n",
      "Constructing r0 CIs...\n",
      "\n"
     ]
    },
    {
     "name": "stderr",
     "output_type": "stream",
     "text": [
      " 60%|██████    | 174/288 [2:30:50<53:24, 28.11s/it]"
     ]
    },
    {
     "name": "stdout",
     "output_type": "stream",
     "text": [
      "Saving...\n",
      "Coverage: 0.151\n",
      "Average ME: 25.959\n",
      "'construct_r0_CIs' executed in 5004.496678s\n",
      "Constructing r0 CIs...\n",
      "\n"
     ]
    },
    {
     "name": "stderr",
     "output_type": "stream",
     "text": [
      " 61%|██████    | 175/288 [2:31:05<45:46, 24.31s/it]"
     ]
    },
    {
     "name": "stdout",
     "output_type": "stream",
     "text": [
      "Saving...\n",
      "Coverage: 0.080\n",
      "Average ME: 7.042\n",
      "'construct_r0_CIs' executed in 4793.132201s\n",
      "Constructing r0 CIs...\n",
      "\n",
      "Saving...\n"
     ]
    },
    {
     "name": "stderr",
     "output_type": "stream",
     "text": [
      " 61%|██████    | 176/288 [2:31:11<35:02, 18.77s/it]"
     ]
    },
    {
     "name": "stdout",
     "output_type": "stream",
     "text": [
      "Coverage: 0.080\n",
      "Average ME: 7.042\n",
      "'construct_r0_CIs' executed in 4798.016755s\n",
      "Constructing r0 CIs...\n",
      "\n"
     ]
    },
    {
     "name": "stderr",
     "output_type": "stream",
     "text": [
      " 61%|██████▏   | 177/288 [2:36:27<3:19:29, 107.83s/it]"
     ]
    },
    {
     "name": "stdout",
     "output_type": "stream",
     "text": [
      "Saving...\n",
      "Coverage: 0.080\n",
      "Average ME: 7.045\n",
      "'construct_r0_CIs' executed in 4433.176963s\n",
      "Constructing r0 CIs...\n",
      "\n",
      "Saving...\n"
     ]
    },
    {
     "name": "stderr",
     "output_type": "stream",
     "text": [
      " 62%|██████▏   | 178/288 [2:54:45<12:22:23, 404.94s/it]"
     ]
    },
    {
     "name": "stdout",
     "output_type": "stream",
     "text": [
      "Coverage: 0.080\n",
      "Average ME: 70.405\n",
      "'construct_r0_CIs' executed in 3952.829513s\n",
      "Constructing r0 CIs...\n",
      "\n",
      "Saving...\n"
     ]
    },
    {
     "name": "stderr",
     "output_type": "stream",
     "text": [
      " 62%|██████▏   | 179/288 [2:54:58<8:41:58, 287.32s/it] "
     ]
    },
    {
     "name": "stdout",
     "output_type": "stream",
     "text": [
      "Coverage: 0.080\n",
      "Average ME: 70.405\n",
      "'construct_r0_CIs' executed in 3929.820183s\n",
      "Constructing r0 CIs...\n",
      "\n"
     ]
    },
    {
     "name": "stderr",
     "output_type": "stream",
     "text": [
      " 62%|██████▎   | 180/288 [2:55:02<6:04:16, 202.38s/it]"
     ]
    },
    {
     "name": "stdout",
     "output_type": "stream",
     "text": [
      "Saving...\n",
      "Coverage: 0.080\n",
      "Average ME: 70.405\n",
      "'construct_r0_CIs' executed in 3926.408610s\n",
      "Constructing r0 CIs...\n",
      "\n",
      "Saving...\n"
     ]
    },
    {
     "name": "stderr",
     "output_type": "stream",
     "text": [
      " 63%|██████▎   | 181/288 [5:22:47<83:15:35, 2801.27s/it]"
     ]
    },
    {
     "name": "stdout",
     "output_type": "stream",
     "text": [
      "Coverage: 0.754\n",
      "Average ME: 0.366\n",
      "'construct_r0_CIs' executed in 15611.764331s\n",
      "Constructing r0 CIs...\n",
      "\n"
     ]
    },
    {
     "name": "stderr",
     "output_type": "stream",
     "text": [
      " 63%|██████▎   | 182/288 [5:22:59<57:50:20, 1964.34s/it]"
     ]
    },
    {
     "name": "stdout",
     "output_type": "stream",
     "text": [
      "Saving...\n",
      "Coverage: 0.759\n",
      "Average ME: 0.371\n",
      "'construct_r0_CIs' executed in 15610.374309s\n",
      "Constructing r0 CIs...\n",
      "\n"
     ]
    },
    {
     "name": "stderr",
     "output_type": "stream",
     "text": [
      " 64%|██████▎   | 183/288 [5:23:08<40:11:00, 1377.72s/it]"
     ]
    },
    {
     "name": "stdout",
     "output_type": "stream",
     "text": [
      "Saving...\n",
      "Coverage: 0.753\n",
      "Average ME: 0.366\n",
      "'construct_r0_CIs' executed in 15633.177044s\n",
      "Constructing r0 CIs...\n",
      "\n",
      "Saving...\n"
     ]
    },
    {
     "name": "stderr",
     "output_type": "stream",
     "text": [
      " 64%|██████▍   | 184/288 [5:23:26<28:01:01, 969.82s/it] "
     ]
    },
    {
     "name": "stdout",
     "output_type": "stream",
     "text": [
      "Coverage: 0.438\n",
      "Average ME: 8.160\n",
      "'construct_r0_CIs' executed in 15511.668415s\n",
      "Constructing r0 CIs...\n",
      "\n"
     ]
    },
    {
     "name": "stderr",
     "output_type": "stream",
     "text": [
      " 64%|██████▍   | 185/288 [5:23:40<19:32:23, 682.95s/it]"
     ]
    },
    {
     "name": "stdout",
     "output_type": "stream",
     "text": [
      "Saving...\n",
      "Coverage: 0.753\n",
      "Average ME: 0.366\n",
      "'construct_r0_CIs' executed in 15325.856864s\n",
      "Constructing r0 CIs...\n",
      "\n"
     ]
    },
    {
     "name": "stderr",
     "output_type": "stream",
     "text": [
      " 65%|██████▍   | 186/288 [5:23:51<13:38:36, 481.54s/it]"
     ]
    },
    {
     "name": "stdout",
     "output_type": "stream",
     "text": [
      "Saving...\n",
      "Coverage: 0.438\n",
      "Average ME: 8.160\n",
      "'construct_r0_CIs' executed in 15524.553170s\n",
      "Constructing r0 CIs...\n",
      "\n",
      "Saving...\n"
     ]
    },
    {
     "name": "stderr",
     "output_type": "stream",
     "text": [
      " 65%|██████▍   | 187/288 [5:24:00<9:32:03, 339.84s/it] "
     ]
    },
    {
     "name": "stdout",
     "output_type": "stream",
     "text": [
      "Coverage: 0.436\n",
      "Average ME: 81.526\n",
      "'construct_r0_CIs' executed in 15403.069429s\n",
      "Constructing r0 CIs...\n",
      "\n"
     ]
    },
    {
     "name": "stderr",
     "output_type": "stream",
     "text": [
      " 65%|██████▌   | 188/288 [5:24:01<6:36:43, 238.04s/it]"
     ]
    },
    {
     "name": "stdout",
     "output_type": "stream",
     "text": [
      "Saving...\n",
      "Coverage: 0.754\n",
      "Average ME: 0.366\n",
      "'construct_r0_CIs' executed in 15345.979347s\n",
      "Constructing r0 CIs...\n",
      "\n",
      "Saving...\n"
     ]
    },
    {
     "name": "stderr",
     "output_type": "stream",
     "text": [
      " 66%|██████▌   | 189/288 [5:24:21<4:44:53, 172.66s/it]"
     ]
    },
    {
     "name": "stdout",
     "output_type": "stream",
     "text": [
      "Coverage: 0.438\n",
      "Average ME: 8.160\n",
      "'construct_r0_CIs' executed in 15559.148542s\n",
      "Constructing r0 CIs...\n",
      "\n"
     ]
    },
    {
     "name": "stderr",
     "output_type": "stream",
     "text": [
      " 66%|██████▌   | 190/288 [5:24:30<3:21:47, 123.54s/it]"
     ]
    },
    {
     "name": "stdout",
     "output_type": "stream",
     "text": [
      "Saving...\n",
      "Coverage: 0.436\n",
      "Average ME: 81.526\n",
      "'construct_r0_CIs' executed in 15432.643218s\n",
      "Constructing r0 CIs...\n",
      "\n"
     ]
    },
    {
     "name": "stderr",
     "output_type": "stream",
     "text": [
      " 66%|██████▋   | 191/288 [5:24:39<2:24:00, 89.08s/it] "
     ]
    },
    {
     "name": "stdout",
     "output_type": "stream",
     "text": [
      "Saving...\n",
      "Coverage: 0.759\n",
      "Average ME: 0.371\n",
      "'construct_r0_CIs' executed in 15381.075258s\n",
      "Constructing r0 CIs...\n",
      "\n"
     ]
    },
    {
     "name": "stderr",
     "output_type": "stream",
     "text": [
      " 67%|██████▋   | 192/288 [5:24:41<1:40:55, 63.08s/it]"
     ]
    },
    {
     "name": "stdout",
     "output_type": "stream",
     "text": [
      "Saving...\n",
      "Coverage: 0.436\n",
      "Average ME: 81.526\n",
      "'construct_r0_CIs' executed in 15439.602191s\n",
      "Constructing r0 CIs...\n",
      "\n",
      "Saving...\n"
     ]
    },
    {
     "name": "stderr",
     "output_type": "stream",
     "text": [
      " 67%|██████▋   | 193/288 [5:25:09<1:23:28, 52.72s/it]"
     ]
    },
    {
     "name": "stdout",
     "output_type": "stream",
     "text": [
      "Coverage: 0.229\n",
      "Average ME: 22.083\n",
      "'construct_r0_CIs' executed in 15360.943542s\n",
      "Constructing r0 CIs...\n",
      "\n"
     ]
    },
    {
     "name": "stderr",
     "output_type": "stream",
     "text": [
      " 67%|██████▋   | 194/288 [5:25:23<1:04:13, 40.99s/it]"
     ]
    },
    {
     "name": "stdout",
     "output_type": "stream",
     "text": [
      "Saving...\n",
      "Coverage: 0.229\n",
      "Average ME: 22.083\n",
      "'construct_r0_CIs' executed in 15302.719232s\n",
      "Constructing r0 CIs...\n",
      "\n"
     ]
    },
    {
     "name": "stderr",
     "output_type": "stream",
     "text": [
      " 68%|██████▊   | 195/288 [5:25:54<58:50, 37.96s/it]  "
     ]
    },
    {
     "name": "stdout",
     "output_type": "stream",
     "text": [
      "Saving...\n",
      "Coverage: 0.229\n",
      "Average ME: 22.083\n",
      "'construct_r0_CIs' executed in 15288.345491s\n",
      "Constructing r0 CIs...\n",
      "\n"
     ]
    },
    {
     "name": "stderr",
     "output_type": "stream",
     "text": [
      " 68%|██████▊   | 196/288 [5:29:48<2:28:29, 96.84s/it]"
     ]
    },
    {
     "name": "stdout",
     "output_type": "stream",
     "text": [
      "Saving...\n",
      "Coverage: 0.230\n",
      "Average ME: 220.793\n",
      "'construct_r0_CIs' executed in 14730.345907s\n",
      "Constructing r0 CIs...\n",
      "\n",
      "Saving...\n"
     ]
    },
    {
     "name": "stderr",
     "output_type": "stream",
     "text": [
      " 68%|██████▊   | 197/288 [5:35:30<4:18:09, 170.21s/it]"
     ]
    },
    {
     "name": "stdout",
     "output_type": "stream",
     "text": [
      "Coverage: 0.373\n",
      "Average ME: 0.117\n",
      "'construct_r0_CIs' executed in 16298.646081s\n",
      "Constructing r0 CIs...\n",
      "\n"
     ]
    },
    {
     "name": "stderr",
     "output_type": "stream",
     "text": [
      " 69%|██████▉   | 198/288 [5:36:29<3:25:30, 137.00s/it]"
     ]
    },
    {
     "name": "stdout",
     "output_type": "stream",
     "text": [
      "Saving...\n",
      "Coverage: 0.142\n",
      "Average ME: 2.599\n",
      "'construct_r0_CIs' executed in 16168.958883s\n",
      "Constructing r0 CIs...\n",
      "\n",
      "Saving...\n"
     ]
    },
    {
     "name": "stderr",
     "output_type": "stream",
     "text": [
      " 69%|██████▉   | 199/288 [5:36:32<2:23:23, 96.67s/it] "
     ]
    },
    {
     "name": "stdout",
     "output_type": "stream",
     "text": [
      "Saving...\n",
      "Coverage: 0.374\n",
      "Average ME: 0.117\n",
      "'construct_r0_CIs' executed in 16354.119924s\n",
      "Constructing r0 CIs...\n",
      "\n"
     ]
    },
    {
     "name": "stderr",
     "output_type": "stream",
     "text": [
      " 69%|██████▉   | 200/288 [5:36:32<1:39:21, 67.75s/it]"
     ]
    },
    {
     "name": "stdout",
     "output_type": "stream",
     "text": [
      "Coverage: 0.142\n",
      "Average ME: 2.598\n",
      "'construct_r0_CIs' executed in 16172.443540s\n",
      "Constructing r0 CIs...\n",
      "\n",
      "Saving...\n"
     ]
    },
    {
     "name": "stderr",
     "output_type": "stream",
     "text": [
      " 70%|██████▉   | 201/288 [5:36:44<1:13:51, 50.94s/it]"
     ]
    },
    {
     "name": "stdout",
     "output_type": "stream",
     "text": [
      "Coverage: 0.405\n",
      "Average ME: 0.131\n",
      "'construct_r0_CIs' executed in 16338.696401s\n",
      "Constructing r0 CIs...\n",
      "\n"
     ]
    },
    {
     "name": "stderr",
     "output_type": "stream",
     "text": [
      " 70%|███████   | 202/288 [5:36:54<55:40, 38.84s/it]  "
     ]
    },
    {
     "name": "stdout",
     "output_type": "stream",
     "text": [
      "Saving...\n",
      "Coverage: 0.151\n",
      "Average ME: 25.959\n",
      "'construct_r0_CIs' executed in 16168.553219s\n",
      "Constructing r0 CIs...\n",
      "\n"
     ]
    },
    {
     "name": "stderr",
     "output_type": "stream",
     "text": [
      " 70%|███████   | 203/288 [5:37:07<43:45, 30.89s/it]"
     ]
    },
    {
     "name": "stdout",
     "output_type": "stream",
     "text": [
      "Saving...\n",
      "Coverage: 0.374\n",
      "Average ME: 0.117\n",
      "'construct_r0_CIs' executed in 16096.382079s\n",
      "Constructing r0 CIs...\n",
      "\n"
     ]
    },
    {
     "name": "stderr",
     "output_type": "stream",
     "text": [
      " 71%|███████   | 204/288 [5:37:09<31:12, 22.29s/it]"
     ]
    },
    {
     "name": "stdout",
     "output_type": "stream",
     "text": [
      "Saving...\n",
      "Coverage: 0.405\n",
      "Average ME: 0.131\n",
      "'construct_r0_CIs' executed in 16096.030740s\n",
      "Constructing r0 CIs...\n",
      "\n"
     ]
    },
    {
     "name": "stderr",
     "output_type": "stream",
     "text": [
      " 71%|███████   | 205/288 [5:37:14<23:47, 17.20s/it]"
     ]
    },
    {
     "name": "stdout",
     "output_type": "stream",
     "text": [
      "Saving...\n",
      "Coverage: 0.142\n",
      "Average ME: 2.598\n",
      "'construct_r0_CIs' executed in 16219.293366s\n",
      "Constructing r0 CIs...\n",
      "\n"
     ]
    },
    {
     "name": "stderr",
     "output_type": "stream",
     "text": [
      " 72%|███████▏  | 206/288 [5:37:17<17:48, 13.03s/it]"
     ]
    },
    {
     "name": "stdout",
     "output_type": "stream",
     "text": [
      "Saving...\n",
      "Coverage: 0.151\n",
      "Average ME: 25.959\n",
      "'construct_r0_CIs' executed in 16187.368659s\n",
      "Constructing r0 CIs...\n",
      "\n",
      "Saving...\n"
     ]
    },
    {
     "name": "stderr",
     "output_type": "stream",
     "text": [
      " 72%|███████▏  | 207/288 [5:37:24<14:52, 11.02s/it]"
     ]
    },
    {
     "name": "stdout",
     "output_type": "stream",
     "text": [
      "Coverage: 0.373\n",
      "Average ME: 0.117\n",
      "'construct_r0_CIs' executed in 16117.606435s\n",
      "Constructing r0 CIs...\n",
      "\n",
      "Saving...\n"
     ]
    },
    {
     "name": "stderr",
     "output_type": "stream",
     "text": [
      " 72%|███████▏  | 208/288 [5:37:25<10:56,  8.20s/it]"
     ]
    },
    {
     "name": "stdout",
     "output_type": "stream",
     "text": [
      "Coverage: 0.151\n",
      "Average ME: 25.959\n",
      "'construct_r0_CIs' executed in 16196.446678s\n",
      "Constructing r0 CIs...\n",
      "\n"
     ]
    },
    {
     "name": "stderr",
     "output_type": "stream",
     "text": [
      " 73%|███████▎  | 209/288 [5:38:11<25:40, 19.50s/it]"
     ]
    },
    {
     "name": "stdout",
     "output_type": "stream",
     "text": [
      "Saving...\n",
      "Coverage: 0.230\n",
      "Average ME: 220.793\n",
      "'construct_r0_CIs' executed in 13777.767817s\n",
      "Constructing r0 CIs...\n",
      "\n"
     ]
    },
    {
     "name": "stderr",
     "output_type": "stream",
     "text": [
      " 73%|███████▎  | 210/288 [5:38:25<22:58, 17.67s/it]"
     ]
    },
    {
     "name": "stdout",
     "output_type": "stream",
     "text": [
      "Saving...\n",
      "Coverage: 0.230\n",
      "Average ME: 220.793\n",
      "'construct_r0_CIs' executed in 13778.733173s\n",
      "Constructing r0 CIs...\n",
      "\n"
     ]
    },
    {
     "name": "stderr",
     "output_type": "stream",
     "text": [
      " 73%|███████▎  | 211/288 [5:38:50<25:30, 19.87s/it]"
     ]
    },
    {
     "name": "stdout",
     "output_type": "stream",
     "text": [
      "Saving...\n",
      "Coverage: 0.080\n",
      "Average ME: 7.042\n",
      "'construct_r0_CIs' executed in 15375.782867s\n",
      "Constructing r0 CIs...\n",
      "\n",
      "Saving...\n"
     ]
    },
    {
     "name": "stderr",
     "output_type": "stream",
     "text": [
      " 74%|███████▎  | 212/288 [5:38:56<20:07, 15.89s/it]"
     ]
    },
    {
     "name": "stdout",
     "output_type": "stream",
     "text": [
      "Coverage: 0.080\n",
      "Average ME: 7.042\n",
      "'construct_r0_CIs' executed in 15374.786602s\n",
      "Constructing r0 CIs...\n",
      "\n"
     ]
    },
    {
     "name": "stderr",
     "output_type": "stream",
     "text": [
      " 74%|███████▍  | 213/288 [5:38:58<14:24, 11.53s/it]"
     ]
    },
    {
     "name": "stdout",
     "output_type": "stream",
     "text": [
      "Saving...\n",
      "Coverage: 0.080\n",
      "Average ME: 7.042\n",
      "'construct_r0_CIs' executed in 15334.070466s\n",
      "Constructing r0 CIs...\n",
      "\n"
     ]
    },
    {
     "name": "stderr",
     "output_type": "stream",
     "text": [
      " 74%|███████▍  | 214/288 [5:41:41<1:10:24, 57.09s/it]"
     ]
    },
    {
     "name": "stdout",
     "output_type": "stream",
     "text": [
      "Saving...\n",
      "Coverage: 0.080\n",
      "Average ME: 70.405\n",
      "'construct_r0_CIs' executed in 13874.799184s\n",
      "Constructing r0 CIs...\n",
      "\n"
     ]
    },
    {
     "name": "stderr",
     "output_type": "stream",
     "text": [
      " 75%|███████▍  | 215/288 [5:41:44<49:39, 40.81s/it]  "
     ]
    },
    {
     "name": "stdout",
     "output_type": "stream",
     "text": [
      "Saving...\n",
      "Saving...\n",
      "Coverage: 0.080\n",
      "Average ME: 70.405\n",
      "'construct_r0_CIs' executed in 13923.134194s\n",
      "Constructing r0 CIs...\n",
      "\n"
     ]
    },
    {
     "name": "stderr",
     "output_type": "stream",
     "text": [
      " 75%|███████▌  | 216/288 [5:41:44<34:24, 28.68s/it]"
     ]
    },
    {
     "name": "stdout",
     "output_type": "stream",
     "text": [
      "Coverage: 0.080\n",
      "Average ME: 70.405\n",
      "'construct_r0_CIs' executed in 13873.053714s\n",
      "Constructing r0 CIs...\n",
      "\n"
     ]
    },
    {
     "name": "stderr",
     "output_type": "stream",
     "text": [
      " 75%|███████▌  | 217/288 [80:12:20<1587:27:20, 80490.71s/it]"
     ]
    },
    {
     "name": "stdout",
     "output_type": "stream",
     "text": [
      "Saving...\n",
      "Coverage: 0.293\n",
      "Average ME: 35.389\n",
      "'construct_r0_CIs' executed in 282098.692900s\n",
      "Constructing r0 CIs...\n",
      "\n"
     ]
    },
    {
     "name": "stderr",
     "output_type": "stream",
     "text": [
      " 76%|███████▌  | 218/288 [80:12:36<1095:39:49, 56348.41s/it]"
     ]
    },
    {
     "name": "stdout",
     "output_type": "stream",
     "text": [
      "Saving...\n",
      "Coverage: 0.292\n",
      "Average ME: 35.388\n",
      "'construct_r0_CIs' executed in 282121.997781s\n",
      "Constructing r0 CIs...\n",
      "\n",
      "Saving...\n"
     ]
    },
    {
     "name": "stderr",
     "output_type": "stream",
     "text": [
      " 76%|███████▌  | 219/288 [80:14:22<756:36:59, 39475.64s/it] "
     ]
    },
    {
     "name": "stdout",
     "output_type": "stream",
     "text": [
      "Coverage: 0.293\n",
      "Average ME: 35.390\n",
      "'construct_r0_CIs' executed in 282213.741141s\n",
      "Constructing r0 CIs...\n",
      "\n"
     ]
    },
    {
     "name": "stderr",
     "output_type": "stream",
     "text": [
      " 76%|███████▋  | 220/288 [80:49:49<534:00:40, 28271.19s/it]"
     ]
    },
    {
     "name": "stdout",
     "output_type": "stream",
     "text": [
      "Saving...\n",
      "Coverage: 0.075\n",
      "Average ME: 11.299\n",
      "'construct_r0_CIs' executed in 284272.415912s\n",
      "Constructing r0 CIs...\n",
      "\n",
      "Saving...\n"
     ]
    },
    {
     "name": "stderr",
     "output_type": "stream",
     "text": [
      " 77%|███████▋  | 221/288 [81:27:22<380:53:14, 20465.59s/it]"
     ]
    },
    {
     "name": "stdout",
     "output_type": "stream",
     "text": [
      "Coverage: 0.292\n",
      "Average ME: 35.388\n",
      "'construct_r0_CIs' executed in 286590.877770s\n",
      "Constructing r0 CIs...\n",
      "\n"
     ]
    },
    {
     "name": "stderr",
     "output_type": "stream",
     "text": [
      " 77%|███████▋  | 222/288 [81:31:57<264:09:16, 14408.43s/it]"
     ]
    },
    {
     "name": "stdout",
     "output_type": "stream",
     "text": [
      "Saving...\n",
      "Coverage: 0.293\n",
      "Average ME: 35.388\n",
      "'construct_r0_CIs' executed in 286805.433196s\n",
      "Constructing r0 CIs...\n",
      "\n"
     ]
    },
    {
     "name": "stderr",
     "output_type": "stream",
     "text": [
      " 77%|███████▋  | 223/288 [81:33:25<182:35:07, 10112.42s/it]"
     ]
    },
    {
     "name": "stdout",
     "output_type": "stream",
     "text": [
      "Saving...\n",
      "Coverage: 0.293\n",
      "Average ME: 35.389\n",
      "'construct_r0_CIs' executed in 286888.826828s\n",
      "Constructing r0 CIs...\n",
      "\n",
      "Saving...\n"
     ]
    },
    {
     "name": "stderr",
     "output_type": "stream",
     "text": [
      " 78%|███████▊  | 224/288 [82:43:30<148:16:04, 8340.08s/it] "
     ]
    },
    {
     "name": "stdout",
     "output_type": "stream",
     "text": [
      "Coverage: 0.076\n",
      "Average ME: 11.300\n",
      "'construct_r0_CIs' executed in 289890.267818s\n",
      "Constructing r0 CIs...\n",
      "\n",
      "Saving...\n"
     ]
    },
    {
     "name": "stderr",
     "output_type": "stream",
     "text": [
      " 78%|███████▊  | 225/288 [82:45:25<102:46:07, 5872.51s/it]"
     ]
    },
    {
     "name": "stdout",
     "output_type": "stream",
     "text": [
      "Coverage: 0.076\n",
      "Average ME: 11.303\n",
      "'construct_r0_CIs' executed in 289977.029333s\n"
     ]
    },
    {
     "name": "stderr",
     "output_type": "stream",
     "text": [
      " 78%|███████▊  | 226/288 [82:49:54<72:11:15, 4191.53s/it] "
     ]
    },
    {
     "name": "stdout",
     "output_type": "stream",
     "text": [
      "Saving...\n",
      "Coverage: 0.086\n",
      "Average ME: 11.569\n",
      "'construct_r0_CIs' executed in 289197.169034s\n",
      "Saving...\n"
     ]
    },
    {
     "name": "stderr",
     "output_type": "stream",
     "text": [
      " 79%|███████▉  | 227/288 [82:54:36<51:08:54, 3018.59s/it]"
     ]
    },
    {
     "name": "stdout",
     "output_type": "stream",
     "text": [
      "Coverage: 0.075\n",
      "Average ME: 11.299\n",
      "'construct_r0_CIs' executed in 290527.191192s\n"
     ]
    },
    {
     "name": "stderr",
     "output_type": "stream",
     "text": [
      " 79%|███████▉  | 228/288 [82:57:20<36:02:20, 2162.33s/it]"
     ]
    },
    {
     "name": "stdout",
     "output_type": "stream",
     "text": [
      "Saving...\n",
      "Coverage: 0.281\n",
      "Average ME: 36.232\n",
      "'construct_r0_CIs' executed in 289704.543929s\n"
     ]
    },
    {
     "name": "stderr",
     "output_type": "stream",
     "text": [
      " 80%|███████▉  | 229/288 [82:57:31<24:51:39, 1516.94s/it]"
     ]
    },
    {
     "name": "stdout",
     "output_type": "stream",
     "text": [
      "Saving...\n",
      "Coverage: 0.286\n",
      "Average ME: 36.231\n",
      "'construct_r0_CIs' executed in 289762.713057s\n"
     ]
    },
    {
     "name": "stderr",
     "output_type": "stream",
     "text": [
      " 80%|███████▉  | 230/288 [82:57:38<17:08:17, 1063.75s/it]"
     ]
    },
    {
     "name": "stdout",
     "output_type": "stream",
     "text": [
      "Saving...\n",
      "Coverage: 0.287\n",
      "Average ME: 36.231\n",
      "'construct_r0_CIs' executed in 289723.348793s\n",
      "Saving...\n"
     ]
    },
    {
     "name": "stderr",
     "output_type": "stream",
     "text": [
      " 80%|████████  | 231/288 [82:57:57<11:52:48, 750.33s/it] "
     ]
    },
    {
     "name": "stdout",
     "output_type": "stream",
     "text": [
      "Coverage: 0.075\n",
      "Average ME: 11.300\n",
      "'construct_r0_CIs' executed in 289796.230906s\n",
      "Saving...\n"
     ]
    },
    {
     "name": "stderr",
     "output_type": "stream",
     "text": [
      " 81%|████████  | 232/288 [82:59:51<8:42:20, 559.66s/it] "
     ]
    },
    {
     "name": "stdout",
     "output_type": "stream",
     "text": [
      "Coverage: 0.086\n",
      "Average ME: 11.568\n",
      "'construct_r0_CIs' executed in 289802.074517s\n",
      "Saving...\n"
     ]
    },
    {
     "name": "stderr",
     "output_type": "stream",
     "text": [
      " 81%|████████  | 233/288 [83:00:07<6:03:19, 396.35s/it]"
     ]
    },
    {
     "name": "stdout",
     "output_type": "stream",
     "text": [
      "Coverage: 0.090\n",
      "Average ME: 11.572\n",
      "'construct_r0_CIs' executed in 289795.631872s\n"
     ]
    },
    {
     "name": "stderr",
     "output_type": "stream",
     "text": [
      " 81%|████████▏ | 234/288 [83:01:16<4:28:33, 298.40s/it]"
     ]
    },
    {
     "name": "stdout",
     "output_type": "stream",
     "text": [
      "Saving...\n",
      "Coverage: 0.366\n",
      "Average ME: 88.625\n",
      "'construct_r0_CIs' executed in 289489.635592s\n"
     ]
    },
    {
     "name": "stderr",
     "output_type": "stream",
     "text": [
      " 82%|████████▏ | 235/288 [83:06:28<4:27:04, 302.34s/it]"
     ]
    },
    {
     "name": "stdout",
     "output_type": "stream",
     "text": [
      "Saving...\n",
      "Coverage: 0.287\n",
      "Average ME: 36.231\n",
      "'construct_r0_CIs' executed in 290212.562830s\n"
     ]
    },
    {
     "name": "stderr",
     "output_type": "stream",
     "text": [
      " 82%|████████▏ | 236/288 [83:07:08<3:13:53, 223.72s/it]"
     ]
    },
    {
     "name": "stdout",
     "output_type": "stream",
     "text": [
      "Saving...\n",
      "Coverage: 0.281\n",
      "Average ME: 36.231\n",
      "'construct_r0_CIs' executed in 290250.985772s\n",
      "Saving...\n"
     ]
    },
    {
     "name": "stderr",
     "output_type": "stream",
     "text": [
      " 82%|████████▏ | 237/288 [83:07:26<2:17:45, 162.07s/it]"
     ]
    },
    {
     "name": "stdout",
     "output_type": "stream",
     "text": [
      "Coverage: 0.286\n",
      "Average ME: 36.231\n",
      "'construct_r0_CIs' executed in 290302.823240s\n",
      "Saving...\n"
     ]
    },
    {
     "name": "stderr",
     "output_type": "stream",
     "text": [
      " 83%|████████▎ | 238/288 [83:08:23<1:48:33, 130.27s/it]"
     ]
    },
    {
     "name": "stdout",
     "output_type": "stream",
     "text": [
      "Coverage: 0.077\n",
      "Average ME: 11.299\n",
      "'construct_r0_CIs' executed in 290441.302368s\n"
     ]
    },
    {
     "name": "stderr",
     "output_type": "stream",
     "text": [
      " 83%|████████▎ | 239/288 [83:08:46<1:20:11, 98.19s/it] "
     ]
    },
    {
     "name": "stdout",
     "output_type": "stream",
     "text": [
      "Saving...\n",
      "Coverage: 0.090\n",
      "Average ME: 11.569\n",
      "'construct_r0_CIs' executed in 290254.719770s\n"
     ]
    },
    {
     "name": "stderr",
     "output_type": "stream",
     "text": [
      " 83%|████████▎ | 240/288 [83:09:47<1:09:33, 86.95s/it]"
     ]
    },
    {
     "name": "stdout",
     "output_type": "stream",
     "text": [
      "Saving...\n",
      "Coverage: 0.086\n",
      "Average ME: 11.568\n",
      "'construct_r0_CIs' executed in 290321.305190s\n"
     ]
    },
    {
     "name": "stderr",
     "output_type": "stream",
     "text": [
      " 84%|████████▎ | 241/288 [83:09:59<50:41, 64.72s/it]  "
     ]
    },
    {
     "name": "stdout",
     "output_type": "stream",
     "text": [
      "Saving...\n",
      "Coverage: 0.367\n",
      "Average ME: 88.625\n",
      "'construct_r0_CIs' executed in 288901.583853s\n"
     ]
    },
    {
     "name": "stderr",
     "output_type": "stream",
     "text": [
      " 84%|████████▍ | 242/288 [83:10:04<35:48, 46.70s/it]"
     ]
    },
    {
     "name": "stdout",
     "output_type": "stream",
     "text": [
      "Saving...\n",
      "Coverage: 0.086\n",
      "Average ME: 11.568\n",
      "'construct_r0_CIs' executed in 290354.223678s\n",
      "Saving...\n"
     ]
    },
    {
     "name": "stderr",
     "output_type": "stream",
     "text": [
      " 84%|████████▍ | 243/288 [83:10:10<25:52, 34.49s/it]"
     ]
    },
    {
     "name": "stdout",
     "output_type": "stream",
     "text": [
      "Coverage: 0.366\n",
      "Average ME: 88.625\n",
      "'construct_r0_CIs' executed in 288925.102611s\n"
     ]
    },
    {
     "name": "stderr",
     "output_type": "stream",
     "text": [
      " 85%|████████▍ | 244/288 [83:16:46<1:44:47, 142.90s/it]"
     ]
    },
    {
     "name": "stdout",
     "output_type": "stream",
     "text": [
      "Saving...\n",
      "Coverage: 0.366\n",
      "Average ME: 88.625\n",
      "'construct_r0_CIs' executed in 289303.923177s\n",
      "Saving...\n"
     ]
    },
    {
     "name": "stderr",
     "output_type": "stream",
     "text": [
      " 85%|████████▌ | 245/288 [84:00:42<10:38:21, 890.72s/it]"
     ]
    },
    {
     "name": "stdout",
     "output_type": "stream",
     "text": [
      "Coverage: 0.074\n",
      "Average ME: 13.412\n",
      "'construct_r0_CIs' executed in 282150.332300s\n"
     ]
    },
    {
     "name": "stderr",
     "output_type": "stream",
     "text": [
      " 85%|████████▌ | 246/288 [84:02:08<7:34:38, 649.48s/it] "
     ]
    },
    {
     "name": "stdout",
     "output_type": "stream",
     "text": [
      "Saving...\n",
      "Coverage: 0.293\n",
      "Average ME: 35.390\n",
      "'construct_r0_CIs' executed in 283049.711807s\n",
      "Saving...\n"
     ]
    },
    {
     "name": "stderr",
     "output_type": "stream",
     "text": [
      " 86%|████████▌ | 247/288 [84:02:20<5:13:07, 458.24s/it]"
     ]
    },
    {
     "name": "stdout",
     "output_type": "stream",
     "text": [
      "Coverage: 0.292\n",
      "Average ME: 35.388\n",
      "'construct_r0_CIs' executed in 283079.308355s\n"
     ]
    },
    {
     "name": "stderr",
     "output_type": "stream",
     "text": [
      " 86%|████████▌ | 248/288 [84:02:21<3:34:01, 321.04s/it]"
     ]
    },
    {
     "name": "stdout",
     "output_type": "stream",
     "text": [
      "Saving...\n",
      "Coverage: 0.293\n",
      "Average ME: 35.389\n",
      "'construct_r0_CIs' executed in 283071.275138s\n",
      "Saving...\n",
      "Coverage: 0.112\n",
      "Average ME: 28.239\n",
      "'construct_r0_CIs' executed in 283192.308300s\n"
     ]
    },
    {
     "name": "stderr",
     "output_type": "stream",
     "text": [
      " 87%|████████▋ | 250/288 [84:03:34<1:49:31, 172.93s/it]"
     ]
    },
    {
     "name": "stdout",
     "output_type": "stream",
     "text": [
      "Saving...\n",
      "Coverage: 0.109\n",
      "Average ME: 28.237\n",
      "'construct_r0_CIs' executed in 283226.538046s\n"
     ]
    },
    {
     "name": "stderr",
     "output_type": "stream",
     "text": [
      " 87%|████████▋ | 251/288 [84:03:45<1:16:33, 124.15s/it]"
     ]
    },
    {
     "name": "stdout",
     "output_type": "stream",
     "text": [
      "Saving...\n",
      "Coverage: 0.110\n",
      "Average ME: 28.238\n",
      "'construct_r0_CIs' executed in 283218.792081s\n"
     ]
    },
    {
     "name": "stderr",
     "output_type": "stream",
     "text": [
      " 88%|████████▊ | 252/288 [84:03:59<54:45, 91.27s/it]   "
     ]
    },
    {
     "name": "stdout",
     "output_type": "stream",
     "text": [
      "Saving...\n",
      "Coverage: 0.075\n",
      "Average ME: 11.299\n",
      "'construct_r0_CIs' executed in 283085.288678s\n",
      "Saving...\n"
     ]
    },
    {
     "name": "stderr",
     "output_type": "stream",
     "text": [
      " 88%|████████▊ | 253/288 [84:05:16<50:40, 86.87s/it]"
     ]
    },
    {
     "name": "stdout",
     "output_type": "stream",
     "text": [
      "Coverage: 0.076\n",
      "Average ME: 11.300\n",
      "'construct_r0_CIs' executed in 282927.684922s\n",
      "Saving...\n"
     ]
    },
    {
     "name": "stderr",
     "output_type": "stream",
     "text": [
      " 88%|████████▊ | 254/288 [84:05:21<35:14, 62.19s/it]"
     ]
    },
    {
     "name": "stdout",
     "output_type": "stream",
     "text": [
      "Coverage: 0.317\n",
      "Average ME: 42.012\n",
      "'construct_r0_CIs' executed in 282516.811484s\n",
      "Saving...\n"
     ]
    },
    {
     "name": "stderr",
     "output_type": "stream",
     "text": [
      " 89%|████████▊ | 255/288 [84:05:57<29:55, 54.42s/it]"
     ]
    },
    {
     "name": "stdout",
     "output_type": "stream",
     "text": [
      "Coverage: 0.319\n",
      "Average ME: 42.013\n",
      "'construct_r0_CIs' executed in 282530.148468s\n"
     ]
    },
    {
     "name": "stderr",
     "output_type": "stream",
     "text": [
      " 89%|████████▉ | 256/288 [84:06:05<21:41, 40.66s/it]"
     ]
    },
    {
     "name": "stdout",
     "output_type": "stream",
     "text": [
      "Saving...\n",
      "Coverage: 0.178\n",
      "Average ME: 223.574\n",
      "'construct_r0_CIs' executed in 282427.680108s\n",
      "Saving...\n"
     ]
    },
    {
     "name": "stderr",
     "output_type": "stream",
     "text": [
      " 89%|████████▉ | 257/288 [84:06:08<15:05, 29.21s/it]"
     ]
    },
    {
     "name": "stdout",
     "output_type": "stream",
     "text": [
      "Coverage: 0.317\n",
      "Average ME: 42.012\n",
      "'construct_r0_CIs' executed in 282553.539816s\n"
     ]
    },
    {
     "name": "stderr",
     "output_type": "stream",
     "text": [
      " 90%|████████▉ | 258/288 [84:06:19<11:49, 23.64s/it]"
     ]
    },
    {
     "name": "stdout",
     "output_type": "stream",
     "text": [
      "Saving...\n",
      "Coverage: 0.076\n",
      "Average ME: 11.303\n",
      "'construct_r0_CIs' executed in 282648.866591s\n",
      "Saving...\n"
     ]
    },
    {
     "name": "stderr",
     "output_type": "stream",
     "text": [
      " 90%|████████▉ | 259/288 [84:06:40<11:09, 23.09s/it]"
     ]
    },
    {
     "name": "stdout",
     "output_type": "stream",
     "text": [
      "Coverage: 0.075\n",
      "Average ME: 11.300\n",
      "'construct_r0_CIs' executed in 282608.308522s\n"
     ]
    },
    {
     "name": "stderr",
     "output_type": "stream",
     "text": [
      " 90%|█████████ | 260/288 [84:07:06<11:08, 23.86s/it]"
     ]
    },
    {
     "name": "stdout",
     "output_type": "stream",
     "text": [
      "Saving...\n",
      "Coverage: 0.178\n",
      "Average ME: 223.574\n",
      "'construct_r0_CIs' executed in 282324.899098s\n"
     ]
    },
    {
     "name": "stderr",
     "output_type": "stream",
     "text": [
      " 91%|█████████ | 261/288 [84:07:26<10:12, 22.69s/it]"
     ]
    },
    {
     "name": "stdout",
     "output_type": "stream",
     "text": [
      "Saving...\n",
      "Coverage: 0.292\n",
      "Average ME: 35.388\n",
      "'construct_r0_CIs' executed in 283364.994772s\n",
      "Saving...\n"
     ]
    },
    {
     "name": "stderr",
     "output_type": "stream",
     "text": [
      " 91%|█████████ | 262/288 [84:07:27<07:01, 16.23s/it]"
     ]
    },
    {
     "name": "stdout",
     "output_type": "stream",
     "text": [
      "Coverage: 0.073\n",
      "Average ME: 13.409\n",
      "'construct_r0_CIs' executed in 282601.612342s\n",
      "Saving...\n"
     ]
    },
    {
     "name": "stderr",
     "output_type": "stream",
     "text": [
      " 91%|█████████▏| 263/288 [84:07:34<05:38, 13.54s/it]"
     ]
    },
    {
     "name": "stdout",
     "output_type": "stream",
     "text": [
      "Coverage: 0.074\n",
      "Average ME: 13.409\n",
      "'construct_r0_CIs' executed in 282610.511635s\n"
     ]
    },
    {
     "name": "stderr",
     "output_type": "stream",
     "text": [
      " 92%|█████████▏| 264/288 [84:07:44<04:59, 12.49s/it]"
     ]
    },
    {
     "name": "stdout",
     "output_type": "stream",
     "text": [
      "Saving...\n",
      "Coverage: 0.366\n",
      "Average ME: 88.625\n",
      "'construct_r0_CIs' executed in 283496.937957s\n"
     ]
    },
    {
     "name": "stderr",
     "output_type": "stream",
     "text": [
      " 92%|█████████▏| 265/288 [84:07:55<04:31, 11.80s/it]"
     ]
    },
    {
     "name": "stdout",
     "output_type": "stream",
     "text": [
      "Saving...\n",
      "Coverage: 0.178\n",
      "Average ME: 223.575\n",
      "'construct_r0_CIs' executed in 282370.663697s\n",
      "Saving...\n"
     ]
    },
    {
     "name": "stderr",
     "output_type": "stream",
     "text": [
      " 92%|█████████▏| 266/288 [84:08:01<03:43, 10.16s/it]"
     ]
    },
    {
     "name": "stdout",
     "output_type": "stream",
     "text": [
      "Coverage: 0.367\n",
      "Average ME: 88.625\n",
      "'construct_r0_CIs' executed in 283501.958827s\n",
      "Saving...\n"
     ]
    },
    {
     "name": "stderr",
     "output_type": "stream",
     "text": [
      " 93%|█████████▎| 267/288 [84:08:26<05:09, 14.72s/it]"
     ]
    },
    {
     "name": "stdout",
     "output_type": "stream",
     "text": [
      "Coverage: 0.293\n",
      "Average ME: 35.389\n",
      "'construct_r0_CIs' executed in 283383.136489s\n",
      "Saving...\n"
     ]
    },
    {
     "name": "stderr",
     "output_type": "stream",
     "text": [
      " 93%|█████████▎| 268/288 [84:08:35<04:16, 12.84s/it]"
     ]
    },
    {
     "name": "stdout",
     "output_type": "stream",
     "text": [
      "Coverage: 0.293\n",
      "Average ME: 35.388\n",
      "'construct_r0_CIs' executed in 283405.205769s\n"
     ]
    },
    {
     "name": "stderr",
     "output_type": "stream",
     "text": [
      " 93%|█████████▎| 269/288 [84:08:39<03:17, 10.41s/it]"
     ]
    },
    {
     "name": "stdout",
     "output_type": "stream",
     "text": [
      "Saving...\n",
      "Coverage: 0.110\n",
      "Average ME: 28.237\n",
      "'construct_r0_CIs' executed in 283479.136473s\n"
     ]
    },
    {
     "name": "stderr",
     "output_type": "stream",
     "text": [
      " 94%|█████████▍| 270/288 [84:09:04<04:25, 14.73s/it]"
     ]
    },
    {
     "name": "stdout",
     "output_type": "stream",
     "text": [
      "Saving...\n",
      "Coverage: 0.112\n",
      "Average ME: 28.238\n",
      "'construct_r0_CIs' executed in 283503.464934s\n"
     ]
    },
    {
     "name": "stderr",
     "output_type": "stream",
     "text": [
      " 94%|█████████▍| 271/288 [84:09:05<03:01, 10.65s/it]"
     ]
    },
    {
     "name": "stdout",
     "output_type": "stream",
     "text": [
      "Saving...\n",
      "Coverage: 0.109\n",
      "Average ME: 28.237\n",
      "'construct_r0_CIs' executed in 283514.298723s\n",
      "Saving...\n"
     ]
    },
    {
     "name": "stderr",
     "output_type": "stream",
     "text": [
      " 94%|█████████▍| 272/288 [84:09:56<06:01, 22.57s/it]"
     ]
    },
    {
     "name": "stdout",
     "output_type": "stream",
     "text": [
      "Coverage: 0.318\n",
      "Average ME: 42.012\n",
      "'construct_r0_CIs' executed in 282758.269192s\n",
      "Saving...\n"
     ]
    },
    {
     "name": "stderr",
     "output_type": "stream",
     "text": [
      " 95%|█████████▍| 273/288 [84:10:01<04:19, 17.29s/it]"
     ]
    },
    {
     "name": "stdout",
     "output_type": "stream",
     "text": [
      "Coverage: 0.317\n",
      "Average ME: 42.012\n",
      "'construct_r0_CIs' executed in 282771.861265s\n"
     ]
    },
    {
     "name": "stderr",
     "output_type": "stream",
     "text": [
      " 95%|█████████▌| 274/288 [84:10:22<04:20, 18.62s/it]"
     ]
    },
    {
     "name": "stdout",
     "output_type": "stream",
     "text": [
      "Saving...\n",
      "Coverage: 0.317\n",
      "Average ME: 42.012\n",
      "'construct_r0_CIs' executed in 282788.273266s\n"
     ]
    },
    {
     "name": "stderr",
     "output_type": "stream",
     "text": [
      " 95%|█████████▌| 275/288 [84:10:28<03:10, 14.62s/it]"
     ]
    },
    {
     "name": "stdout",
     "output_type": "stream",
     "text": [
      "Saving...\n",
      "Coverage: 0.077\n",
      "Average ME: 11.299\n",
      "'construct_r0_CIs' executed in 282836.022717s\n",
      "Saving...\n",
      "Saving...\n"
     ]
    },
    {
     "name": "stderr",
     "output_type": "stream",
     "text": [
      " 96%|█████████▌| 276/288 [84:10:31<02:14, 11.21s/it]"
     ]
    },
    {
     "name": "stdout",
     "output_type": "stream",
     "text": [
      "Coverage: 0.074\n",
      "Average ME: 13.409\n",
      "'construct_r0_CIs' executed in 282726.275392s\n",
      "Coverage: 0.075\n",
      "Average ME: 11.299\n",
      "'construct_r0_CIs' executed in 282841.918590s\n"
     ]
    },
    {
     "name": "stderr",
     "output_type": "stream",
     "text": [
      " 97%|█████████▋| 278/288 [84:10:57<02:00, 12.01s/it]"
     ]
    },
    {
     "name": "stdout",
     "output_type": "stream",
     "text": [
      "Saving...\n",
      "Coverage: 0.074\n",
      "Average ME: 13.409\n",
      "'construct_r0_CIs' executed in 282720.549805s\n"
     ]
    },
    {
     "name": "stderr",
     "output_type": "stream",
     "text": [
      " 97%|█████████▋| 279/288 [84:10:58<01:24,  9.38s/it]"
     ]
    },
    {
     "name": "stdout",
     "output_type": "stream",
     "text": [
      "Saving...\n",
      "Coverage: 0.178\n",
      "Average ME: 223.574\n",
      "'construct_r0_CIs' executed in 282554.041933s\n"
     ]
    },
    {
     "name": "stderr",
     "output_type": "stream",
     "text": [
      " 97%|█████████▋| 280/288 [84:11:04<01:06,  8.31s/it]"
     ]
    },
    {
     "name": "stdout",
     "output_type": "stream",
     "text": [
      "Saving...\n",
      "Coverage: 0.073\n",
      "Average ME: 13.409\n",
      "'construct_r0_CIs' executed in 282733.858463s\n"
     ]
    },
    {
     "name": "stderr",
     "output_type": "stream",
     "text": [
      " 98%|█████████▊| 281/288 [91:29:06<13:54:46, 7155.16s/it]"
     ]
    },
    {
     "name": "stdout",
     "output_type": "stream",
     "text": [
      "Saving...\n",
      "Coverage: 0.040\n",
      "Average ME: 71.296\n",
      "'construct_r0_CIs' executed in 38356.669902s\n"
     ]
    },
    {
     "name": "stderr",
     "output_type": "stream",
     "text": [
      " 98%|█████████▊| 282/288 [91:30:15<8:37:13, 5172.20s/it] "
     ]
    },
    {
     "name": "stdout",
     "output_type": "stream",
     "text": [
      "Saving...\n",
      "Coverage: 0.040\n",
      "Average ME: 71.296\n",
      "'construct_r0_CIs' executed in 40553.324308s\n"
     ]
    },
    {
     "name": "stderr",
     "output_type": "stream",
     "text": [
      " 98%|█████████▊| 283/288 [91:32:54<5:11:42, 3740.44s/it]"
     ]
    },
    {
     "name": "stdout",
     "output_type": "stream",
     "text": [
      "Saving...\n",
      "Coverage: 0.039\n",
      "Average ME: 71.297\n",
      "'construct_r0_CIs' executed in 36332.384065s\n"
     ]
    },
    {
     "name": "stderr",
     "output_type": "stream",
     "text": [
      " 99%|█████████▊| 284/288 [93:03:13<4:41:46, 4226.71s/it]"
     ]
    },
    {
     "name": "stdout",
     "output_type": "stream",
     "text": [
      "Saving...\n",
      "Coverage: 0.178\n",
      "Average ME: 223.574\n",
      "'construct_r0_CIs' executed in 46253.129451s\n"
     ]
    },
    {
     "name": "stderr",
     "output_type": "stream",
     "text": [
      " 99%|█████████▉| 285/288 [93:05:38<2:31:35, 3031.81s/it]"
     ]
    },
    {
     "name": "stdout",
     "output_type": "stream",
     "text": [
      "Saving...\n",
      "Coverage: 0.178\n",
      "Average ME: 223.574\n",
      "'construct_r0_CIs' executed in 46382.054678s\n"
     ]
    },
    {
     "name": "stderr",
     "output_type": "stream",
     "text": [
      " 99%|█████████▉| 286/288 [93:32:32<1:27:07, 2613.52s/it]"
     ]
    },
    {
     "name": "stdout",
     "output_type": "stream",
     "text": [
      "Saving...\n",
      "Coverage: 0.040\n",
      "Average ME: 71.296\n",
      "'construct_r0_CIs' executed in 43234.555031s\n"
     ]
    },
    {
     "name": "stderr",
     "output_type": "stream",
     "text": [
      "100%|█████████▉| 287/288 [93:33:05<30:48, 1848.86s/it]  "
     ]
    },
    {
     "name": "stdout",
     "output_type": "stream",
     "text": [
      "Saving...\n",
      "Coverage: 0.040\n",
      "Average ME: 71.296\n",
      "'construct_r0_CIs' executed in 43179.952417s\n"
     ]
    },
    {
     "name": "stderr",
     "output_type": "stream",
     "text": [
      "100%|██████████| 288/288 [93:33:18<00:00, 1169.44s/it]"
     ]
    },
    {
     "name": "stdout",
     "output_type": "stream",
     "text": [
      "Saving...\n",
      "Coverage: 0.039\n",
      "Average ME: 71.296\n",
      "'construct_r0_CIs' executed in 38988.081266s\n"
     ]
    },
    {
     "name": "stderr",
     "output_type": "stream",
     "text": [
      "\n"
     ]
    }
   ],
   "source": [
    "results = []\n",
    "with ThreadPool() as pool:\n",
    "    for result in tqdm(pool.imap_unordered(run_combination, combinations, chunksize=1), total=len(combinations)):\n",
    "        results.append(result)"
   ]
  },
  {
   "cell_type": "code",
   "execution_count": 13,
   "id": "aba81634",
   "metadata": {},
   "outputs": [
    {
     "name": "stdout",
     "output_type": "stream",
     "text": [
      "    r0_learner_name bias_func  bias_scale  n_real  n_expanded  r_expanded  \\\n",
      "0            kernel   NNBias1           0     100        1000       0.010   \n",
      "1            kernel   NNBias1           0     100        1000       0.001   \n",
      "2            kernel   NNBias1           0     100        1000       0.100   \n",
      "3            kernel   NNBias1           1     100        1000       0.001   \n",
      "4            kernel   NNBias1           1     100        1000       0.010   \n",
      "..              ...       ...         ...     ...         ...         ...   \n",
      "283   random_forest   NNBias2          10     100       10000       0.010   \n",
      "284   random_forest   NNBias2          10     100       10000       0.100   \n",
      "285   random_forest   NNBias2          10    1000       10000       0.001   \n",
      "286   random_forest   NNBias2          10    1000       10000       0.010   \n",
      "287   random_forest   NNBias2          10    1000       10000       0.100   \n",
      "\n",
      "     coverage      avg_me  \n",
      "0     0.38862   26.507606  \n",
      "1     0.38862   26.507604  \n",
      "2     0.38848   26.507811  \n",
      "3     0.37066   27.789902  \n",
      "4     0.37068   27.789904  \n",
      "..        ...         ...  \n",
      "283   0.17756  223.574431  \n",
      "284   0.17760  223.574452  \n",
      "285   0.03958   71.295842  \n",
      "286   0.03958   71.295850  \n",
      "287   0.03922   71.295915  \n",
      "\n",
      "[288 rows x 8 columns]\n"
     ]
    }
   ],
   "source": [
    "results = pd.DataFrame(results)\n",
    "print(results)\n",
    "results.to_csv(\"results.csv\", index=False)"
   ]
  },
  {
   "cell_type": "code",
   "execution_count": null,
   "id": "954eb04f",
   "metadata": {},
   "outputs": [],
   "source": [
    "from IPython.display import Audio, display\n",
    "\n",
    "# Replace 'sound.mp3' with the path to your MP3 file.\n",
    "display(Audio(\"/u/home/y/yqg36/alarm.mp3\", autoplay=True))"
   ]
  },
  {
   "cell_type": "code",
   "execution_count": null,
   "id": "4a3b54cc",
   "metadata": {},
   "outputs": [],
   "source": []
  }
 ],
 "metadata": {
  "kernelspec": {
   "display_name": "dml-env",
   "language": "python",
   "name": "python3"
  },
  "language_info": {
   "codemirror_mode": {
    "name": "ipython",
    "version": 3
   },
   "file_extension": ".py",
   "mimetype": "text/x-python",
   "name": "python",
   "nbconvert_exporter": "python",
   "pygments_lexer": "ipython3",
   "version": "3.11.13"
  }
 },
 "nbformat": 4,
 "nbformat_minor": 5
}

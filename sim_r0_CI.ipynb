{
 "cells": [
  {
   "cell_type": "code",
   "execution_count": 1,
   "id": "faffb77f",
   "metadata": {},
   "outputs": [],
   "source": [
    "import sys\n",
    "\n",
    "sys.path.append(\"./myutils\")\n",
    "from data_generator import (\n",
    "    DataGeneratorParam,\n",
    "    TrainDataParam,\n",
    "    RealDataParam,\n",
    "    ExpandedDataParam,\n",
    "    DataGenerator,\n",
    ")\n",
    "from train_rhat import train_rhat\n",
    "from r0_CI import construct_r0_CIs\n",
    "from true_models import generate_true_models, generate_bias_models\n",
    "from learner import build_learner\n",
    "from utils import get_model_directory_uri\n",
    "import itertools\n",
    "import numpy as np\n",
    "import pandas as pd\n",
    "from multiprocessing.dummy import Pool as ThreadPool\n",
    "from concurrent.futures import ProcessPoolExecutor, as_completed\n",
    "from tqdm import tqdm"
   ]
  },
  {
   "cell_type": "code",
   "execution_count": 2,
   "id": "47817d7f",
   "metadata": {},
   "outputs": [],
   "source": [
    "import warnings\n",
    "warnings.filterwarnings(\n",
    "    \"ignore\",\n",
    "    message=\"You are using `torch.load` with `weights_only=False`\",\n",
    "    category=FutureWarning\n",
    ")"
   ]
  },
  {
   "cell_type": "markdown",
   "id": "a999383f",
   "metadata": {},
   "source": [
    "# All parameters"
   ]
  },
  {
   "cell_type": "code",
   "execution_count": 3,
   "id": "677921f3",
   "metadata": {},
   "outputs": [],
   "source": [
    "Q = 100  # Z in R^Q\n",
    "P = 100  # X in R^P\n",
    "# Y in R\n",
    "OUTPUT_DIRECTORY_URI = \"./results\""
   ]
  },
  {
   "cell_type": "code",
   "execution_count": 4,
   "id": "28496599",
   "metadata": {},
   "outputs": [],
   "source": [
    "r0, g0, f0 = generate_true_models(Q, P)\n",
    "DATA_GENERATOR_PARAM = DataGeneratorParam(p=P, q=Q, r0=r0, g0=g0, f0=f0)\n",
    "\n",
    "TRAIN_DATA_PARAM = TrainDataParam(n_train=50000)"
   ]
  },
  {
   "cell_type": "code",
   "execution_count": 5,
   "id": "17d8335f",
   "metadata": {},
   "outputs": [],
   "source": [
    "r0_LEARNERS = {\n",
    "    # \"linear\": build_learner(model_type='ols'),\n",
    "    \"random_forest_20dep_20ests\": build_learner(\n",
    "        model_type=\"rf\",\n",
    "        output_dim=P,\n",
    "        max_depth=20,\n",
    "        n_estimators=20,\n",
    "        max_features=\"sqrt\",\n",
    "    ),\n",
    "    \"random_forest_20dep_50ests\": build_learner(\n",
    "        model_type=\"rf\",\n",
    "        output_dim=P,\n",
    "        max_depth=20,\n",
    "        n_estimators=50,\n",
    "        max_features=\"sqrt\",\n",
    "    ),\n",
    "    \"random_forest_40dep_20ests\": build_learner(\n",
    "        model_type=\"rf\",\n",
    "        output_dim=P,\n",
    "        max_depth=40,\n",
    "        n_estimators=20,\n",
    "        max_features=\"sqrt\",\n",
    "    ),\n",
    "    \"random_forest_40dep_50ests\": build_learner(\n",
    "        model_type=\"rf\",\n",
    "        output_dim=P,\n",
    "        max_depth=40,\n",
    "        n_estimators=50,\n",
    "        max_features=\"sqrt\",\n",
    "    ),\n",
    "    \"kernel\": build_learner(model_type=\"krr\"),\n",
    "    \"xgboost\": build_learner(model_type=\"xgb\", output_dim=P),\n",
    "    \"neural_net_128x128_1000_64\": build_learner(\n",
    "        model_type=\"mlp\",\n",
    "        input_dim=P,\n",
    "        output_dim=Q,\n",
    "        hidden_layers=[128, 128],\n",
    "        epochs=1000,\n",
    "        batch_size=64,\n",
    "    ),\n",
    "}"
   ]
  },
  {
   "cell_type": "code",
   "execution_count": 6,
   "id": "2c9b3505",
   "metadata": {},
   "outputs": [
    {
     "name": "stdout",
     "output_type": "stream",
     "text": [
      "Number of real data param combos: 12\n",
      "Number of expanded data param combos: 4\n"
     ]
    }
   ],
   "source": [
    "nn_bias_1, nn_bias_2 = generate_bias_models(Q, P)\n",
    "BIAS_FUNCS = [nn_bias_1, nn_bias_2]\n",
    "BIAS_SCALES = [0, 1, 10]\n",
    "N_REALS = [100, 1000]\n",
    "R_EXPANDEDS = [0.001, 0.01]\n",
    "\n",
    "REAL_DATA_PARAMS = [\n",
    "    RealDataParam(bias_func=bias_func, bias_scale=bias_scale, n_real=n_real)\n",
    "    for bias_func, bias_scale, n_real in itertools.product(\n",
    "        BIAS_FUNCS, BIAS_SCALES, N_REALS\n",
    "    )\n",
    "]\n",
    "print(\"Number of real data param combos:\", len(REAL_DATA_PARAMS))\n",
    "\n",
    "EXPANDED_DATA_PARAMS = [\n",
    "    ExpandedDataParam(n_expanded=10 * n_real, r_expanded=r)\n",
    "    for n_real, r in itertools.product(N_REALS, R_EXPANDEDS)\n",
    "]\n",
    "print(\"Number of expanded data param combos:\", len(EXPANDED_DATA_PARAMS))"
   ]
  },
  {
   "cell_type": "code",
   "execution_count": 7,
   "id": "52a89110",
   "metadata": {},
   "outputs": [
    {
     "name": "stdout",
     "output_type": "stream",
     "text": [
      "There are 336 combinations to run.\n"
     ]
    }
   ],
   "source": [
    "combinations = list(\n",
    "    itertools.product(r0_LEARNERS.items(), REAL_DATA_PARAMS, EXPANDED_DATA_PARAMS)\n",
    ")\n",
    "print(f\"There are {len(combinations)} combinations to run.\")"
   ]
  },
  {
   "cell_type": "markdown",
   "id": "5a5dd5de",
   "metadata": {},
   "source": [
    "# Retrieve all trained models"
   ]
  },
  {
   "cell_type": "code",
   "execution_count": 8,
   "id": "417c7c58",
   "metadata": {},
   "outputs": [],
   "source": [
    "def train_single_model(args):\n",
    "    learner_name, learner = args\n",
    "    model_directory_uri = get_model_directory_uri(\n",
    "        data_generator_param=DATA_GENERATOR_PARAM,\n",
    "        train_data_param=TRAIN_DATA_PARAM,\n",
    "        r0_learner_name=learner_name,\n",
    "        output_directory_uri=OUTPUT_DIRECTORY_URI,\n",
    "    )\n",
    "    rhat = train_rhat(\n",
    "        data_generator_param=DATA_GENERATOR_PARAM,\n",
    "        train_data_param=TRAIN_DATA_PARAM,\n",
    "        model_directory_uri=model_directory_uri,\n",
    "        learner_name=learner_name,\n",
    "        learner=learner,\n",
    "        fresh=False,\n",
    "    )\n",
    "    return model_directory_uri, rhat"
   ]
  },
  {
   "cell_type": "code",
   "execution_count": 9,
   "id": "9a058a60",
   "metadata": {},
   "outputs": [
    {
     "name": "stderr",
     "output_type": "stream",
     "text": [
      "Training Models:   0%|          | 0/7 [00:00<?, ?it/s]"
     ]
    },
    {
     "name": "stdout",
     "output_type": "stream",
     "text": [
      "Reading rhat...\n",
      "Reading rhat...Reading rhat...\n",
      "\n",
      "Reading rhat...\n",
      "Reading rhat...\n",
      "Reading rhat...\n",
      "Reading rhat...\n",
      "kernel training MSE = 6039.233176466542\n",
      "'train_rhat' executed in 0.970391s\n"
     ]
    },
    {
     "name": "stderr",
     "output_type": "stream",
     "text": [
      "Training Models:  14%|█▍        | 1/7 [00:00<00:05,  1.00it/s]"
     ]
    },
    {
     "name": "stdout",
     "output_type": "stream",
     "text": [
      "xgboost training MSE = 2670.9454665857\n",
      "'train_rhat' executed in 1.956382s\n"
     ]
    },
    {
     "name": "stderr",
     "output_type": "stream",
     "text": [
      "Training Models:  29%|██▊       | 2/7 [00:02<00:07,  1.58s/it]"
     ]
    },
    {
     "name": "stdout",
     "output_type": "stream",
     "text": [
      "neural_net_128x128_1000_64 training MSE = 1.8428453699535878\n",
      "'train_rhat' executed in 5.481387s\n"
     ]
    },
    {
     "name": "stderr",
     "output_type": "stream",
     "text": [
      "Training Models:  43%|████▎     | 3/7 [00:06<00:09,  2.43s/it]"
     ]
    },
    {
     "name": "stdout",
     "output_type": "stream",
     "text": [
      "random_forest_20dep_20ests training MSE = 2181.720559704722\n",
      "'train_rhat' executed in 31.568061s\n",
      "random_forest_40dep_20ests training MSE = 1853.2292092049986\n",
      "'train_rhat' executed in 38.245884s\n"
     ]
    },
    {
     "name": "stderr",
     "output_type": "stream",
     "text": [
      "Training Models:  71%|███████▏  | 5/7 [01:09<00:38, 19.00s/it]"
     ]
    },
    {
     "name": "stdout",
     "output_type": "stream",
     "text": [
      "random_forest_20dep_50ests training MSE = 1944.3113873115026\n",
      "'train_rhat' executed in 124.588467s\n",
      "random_forest_40dep_50ests training MSE = 1613.1390952323227\n",
      "'train_rhat' executed in 163.584861s\n"
     ]
    },
    {
     "name": "stderr",
     "output_type": "stream",
     "text": [
      "Training Models: 100%|██████████| 7/7 [03:53<00:00, 33.40s/it]\n"
     ]
    }
   ],
   "source": [
    "trained_models = {}\n",
    "\n",
    "with ProcessPoolExecutor() as executor:\n",
    "    futures = {\n",
    "        executor.submit(train_single_model, item): item[0]  # learner_name\n",
    "        for item in r0_LEARNERS.items()\n",
    "    }\n",
    "    for future in tqdm(as_completed(futures), total=len(futures), desc=\"Training Models\"):\n",
    "        learner_name = futures[future]\n",
    "        model_directory_uri, rhat = future.result()\n",
    "        trained_models[learner_name] = (model_directory_uri, rhat)"
   ]
  },
  {
   "cell_type": "markdown",
   "id": "50c7d4bc",
   "metadata": {},
   "source": [
    "# Construct r0_CIs\n"
   ]
  },
  {
   "cell_type": "code",
   "execution_count": null,
   "id": "8c27ab4a",
   "metadata": {},
   "outputs": [],
   "source": [
    "def run_single_experiment(\n",
    "    r0_learner_name,\n",
    "    r0_learner,\n",
    "    data_generator_param,\n",
    "    train_data_param,\n",
    "    output_directory_uri,\n",
    "    real_data_param,\n",
    "    expanded_data_param,\n",
    "    r0,\n",
    "    fresh=False,\n",
    "):\n",
    "    \n",
    "\n",
    "    r0_CIs, coverage, avg_me = construct_r0_CIs(\n",
    "        data_generator_param=data_generator_param,\n",
    "        real_data_param=real_data_param,\n",
    "        expanded_data_param=expanded_data_param,\n",
    "        model_directory_uri=model_directory_uri,\n",
    "        rhat=rhat,\n",
    "        r0=r0,\n",
    "        fresh=fresh,\n",
    "    )\n",
    "\n",
    "    return {\n",
    "        \"r0_learner_name\": r0_learner_name,\n",
    "        \"bias_func\": str(real_data_param.bias_func),\n",
    "        \"bias_scale\": real_data_param.bias_scale,\n",
    "        \"n_real\": real_data_param.n_real,\n",
    "        \"n_expanded\": expanded_data_param.n_expanded,\n",
    "        \"r_expanded\": expanded_data_param.r_expanded,\n",
    "        \"coverage\": coverage,\n",
    "        \"avg_me\": avg_me,\n",
    "    }"
   ]
  },
  {
   "cell_type": "code",
   "execution_count": null,
   "id": "6e54a8e6",
   "metadata": {},
   "outputs": [
    {
     "name": "stderr",
     "output_type": "stream",
     "text": [
      "  0%|                                                     | 0/192 [00:00<?, ?it/s]"
     ]
    }
   ],
   "source": [
    "# Pack function with fixed args using partial\n",
    "def run_combination(args):\n",
    "    (r0_learner_name, r0_learner), real_data_param, expanded_data_param = args\n",
    "    return run_single_experiment(\n",
    "        r0_learner_name=r0_learner_name,\n",
    "        r0_learner=r0_learner,\n",
    "        data_generator_param=DATA_GENERATOR_PARAM,\n",
    "        train_data_param=TRAIN_DATA_PARAM,\n",
    "        output_directory_uri=OUTPUT_DIRECTORY_URI,\n",
    "        real_data_param=real_data_param,\n",
    "        expanded_data_param=expanded_data_param,\n",
    "        r0=r0,\n",
    "        fresh=False,\n",
    "    )\n",
    "\n",
    "results = []\n",
    "with ThreadPool() as pool:\n",
    "    for result in tqdm(pool.imap_unordered(run_combination, combinations), total=len(combinations)):\n",
    "        results.append(result)"
   ]
  },
  {
   "cell_type": "code",
   "execution_count": null,
   "id": "aba81634",
   "metadata": {},
   "outputs": [],
   "source": [
    "results = pd.DataFrame(results)\n",
    "print(results)\n",
    "results.to_csv(\"results.csv\", index=False)"
   ]
  },
  {
   "cell_type": "code",
   "execution_count": null,
   "id": "954eb04f",
   "metadata": {},
   "outputs": [],
   "source": [
    "from IPython.display import Audio, display\n",
    "\n",
    "# Replace 'sound.mp3' with the path to your MP3 file.\n",
    "display(Audio(\"/u/home/y/yqg36/alarm.mp3\", autoplay=True))"
   ]
  },
  {
   "cell_type": "code",
   "execution_count": null,
   "id": "4a3b54cc",
   "metadata": {},
   "outputs": [],
   "source": []
  }
 ],
 "metadata": {
  "kernelspec": {
   "display_name": "dml-env",
   "language": "python",
   "name": "python3"
  },
  "language_info": {
   "codemirror_mode": {
    "name": "ipython",
    "version": 3
   },
   "file_extension": ".py",
   "mimetype": "text/x-python",
   "name": "python",
   "nbconvert_exporter": "python",
   "pygments_lexer": "ipython3",
   "version": "3.11.13"
  }
 },
 "nbformat": 4,
 "nbformat_minor": 5
}

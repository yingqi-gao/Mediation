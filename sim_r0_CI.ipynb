{
 "cells": [
  {
   "cell_type": "code",
   "execution_count": 1,
   "id": "fb371268",
   "metadata": {},
   "outputs": [
    {
     "name": "stderr",
     "output_type": "stream",
     "text": [
      "/u/home/y/yqg36/.conda/envs/dml-env/lib/python3.11/site-packages/xgboost/core.py:377: FutureWarning: Your system has an old version of glibc (< 2.28). We will stop supporting Linux distros with glibc older than 2.28 after **May 31, 2025**. Please upgrade to a recent Linux distro (with glibc >= 2.28) to use future versions of XGBoost.\n",
      "Note: You have installed the 'manylinux2014' variant of XGBoost. Certain features such as GPU algorithms or federated learning are not available. To use these features, please upgrade to a recent Linux distro with glibc 2.28+, and install the 'manylinux_2_28' variant.\n",
      "  warnings.warn(\n"
     ]
    }
   ],
   "source": [
    "import sys\n",
    "sys.path.append(\"/u/home/y/yqg36/Mediation/myutils\")  \n",
    "from data_generator import DataGeneratorParam, TrainDataParam, RealDataParam, ExpandedDataParam\n",
    "from r0_CI import construct_r0_CIs\n",
    "from true_models import generate_true_models, generate_bias_models\n",
    "from learner import build_learner\n",
    "import itertools\n",
    "import pandas as pd"
   ]
  },
  {
   "cell_type": "code",
   "execution_count": 2,
   "id": "e0a935e6",
   "metadata": {},
   "outputs": [],
   "source": [
    "Q = 100   # Z in R^Q\n",
    "P = 100   # X in R^P\n",
    "          # Y in R\n",
    "OUTPUT_DIRECTORY_URI = \"/u/scratch/y/yqg36/Mediation/results\""
   ]
  },
  {
   "cell_type": "code",
   "execution_count": 3,
   "id": "a7cdb866",
   "metadata": {},
   "outputs": [],
   "source": [
    "r0, g0, f0 = generate_true_models(Q, P)\n",
    "DATA_GENERATOR_PARAM = DataGeneratorParam(p=P, q=Q, r0=r0, g0=g0, f0=f0)\n",
    "\n",
    "TRAIN_DATA_PARAM = TrainDataParam(n_train=50000)"
   ]
  },
  {
   "cell_type": "code",
   "execution_count": 4,
   "id": "c38dc948",
   "metadata": {},
   "outputs": [],
   "source": [
    "r0_LEARNERS = {\n",
    "    \"linear\": build_learner(model_type='ols'),\n",
    "    \"random_forest\": build_learner(\n",
    "        model_type='rf', \n",
    "        output_dim=P, \n",
    "        n_estimators=100, \n",
    "        # max_depth=10,\n",
    "        max_features='sqrt',\n",
    "        n_jobs=-1,\n",
    "    ),\n",
    "    \"kernel\": build_learner(model_type='krr'),\n",
    "    \"xgboost\": build_learner(model_type='xgb', output_dim=P),\n",
    "    \"neural_net_128x128_1000_64\": build_learner(\n",
    "        model_type = 'mlp', \n",
    "        input_dim = P,  \n",
    "        output_dim = Q,\n",
    "        hidden_layers = [128, 128],\n",
    "        epochs = 1000,\n",
    "        batch_size = 64\n",
    "    ),   \n",
    "}"
   ]
  },
  {
   "cell_type": "code",
   "execution_count": 5,
   "id": "dc503727",
   "metadata": {},
   "outputs": [],
   "source": [
    "nn_bias_1, nn_bias_2 = generate_bias_models(Q, P)\n",
    "BIAS_FUNCS = [nn_bias_1, nn_bias_2]\n",
    "BIAS_SCALES = [0, 1, 10]\n",
    "N_REALS = [100]\n",
    "\n",
    "REAL_DATA_PARAMS = [RealDataParam(bias_func=bias_func, bias_scale=bias_scale, n_real=n_real) \n",
    "                    for bias_func, bias_scale, n_real in itertools.product(BIAS_FUNCS, BIAS_SCALES, N_REALS)]\n",
    "\n",
    "N_EXPANDEDS = [1000, 10000]\n",
    "R_EXPANDEDS = [0.01, 0.1, 1]\n",
    "\n",
    "EXPANDED_DATA_PARAMS = [ExpandedDataParam(n_expanded, r_expanded) \n",
    "                        for n_expanded, r_expanded in itertools.product(N_EXPANDEDS, R_EXPANDEDS)]"
   ]
  },
  {
   "cell_type": "code",
   "execution_count": 6,
   "id": "13e63e7c",
   "metadata": {},
   "outputs": [
    {
     "name": "stdout",
     "output_type": "stream",
     "text": [
      "There are 180 combinations to run.\n"
     ]
    }
   ],
   "source": [
    "combinations = list(itertools.product(\n",
    "    REAL_DATA_PARAMS,\n",
    "    EXPANDED_DATA_PARAMS,\n",
    "    r0_LEARNERS.items(),\n",
    "))\n",
    "print(f\"There are {len(combinations)} combinations to run.\")"
   ]
  },
  {
   "cell_type": "code",
   "execution_count": null,
   "id": "388d9c13",
   "metadata": {},
   "outputs": [
    {
     "name": "stdout",
     "output_type": "stream",
     "text": [
      "'train_model' executed in 0.003914s\n",
      "Coverage: 1.0\n",
      " Average ME: 259.7148796378489\n",
      "\n",
      "'construct_r0_CIs' executed in 0.008683s\n",
      "1 / 180 finished.\n",
      "'train_model' executed in 67.920114s\n"
     ]
    }
   ],
   "source": [
    "mp_results = []\n",
    "for idx, (real_data_param, expanded_data_param, (r0_learner_name, r0_learner)) in enumerate(combinations):\n",
    "    mp_results.append(\n",
    "        construct_r0_CIs(\n",
    "            data_generator_param = DATA_GENERATOR_PARAM,\n",
    "            train_data_param = TRAIN_DATA_PARAM,\n",
    "            real_data_param = REAL_DATA_PARAMS[0],\n",
    "            expanded_data_param = EXPANDED_DATA_PARAMS[0],\n",
    "            output_directory_uri = OUTPUT_DIRECTORY_URI,\n",
    "            r0_learner_name = r0_learner_name, \n",
    "            r0_learner = r0_learner,\n",
    "        )\n",
    "    )\n",
    "    print(f\"{idx + 1} / {len(combinations)} finished.\")"
   ]
  },
  {
   "cell_type": "code",
   "execution_count": null,
   "id": "baec9b21",
   "metadata": {},
   "outputs": [],
   "source": [
    "from IPython.display import Audio, display\n",
    "\n",
    "# Replace 'sound.mp3' with the path to your MP3 file.\n",
    "display(Audio(\"/u/home/y/yqg36/alarm.mp3\", autoplay=True))"
   ]
  },
  {
   "cell_type": "code",
   "execution_count": null,
   "id": "8cd110dd",
   "metadata": {},
   "outputs": [],
   "source": []
  }
 ],
 "metadata": {
  "kernelspec": {
   "display_name": "dml-env",
   "language": "python",
   "name": "dml-env"
  },
  "language_info": {
   "codemirror_mode": {
    "name": "ipython",
    "version": 3
   },
   "file_extension": ".py",
   "mimetype": "text/x-python",
   "name": "python",
   "nbconvert_exporter": "python",
   "pygments_lexer": "ipython3",
   "version": "3.11.12"
  }
 },
 "nbformat": 4,
 "nbformat_minor": 5
}
